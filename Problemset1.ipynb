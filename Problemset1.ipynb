{
  "nbformat": 4,
  "nbformat_minor": 0,
  "metadata": {
    "colab": {
      "provenance": [],
      "authorship_tag": "ABX9TyOr6HYh2sVqkDCeXcuHjGp8",
      "include_colab_link": true
    },
    "kernelspec": {
      "name": "python3",
      "display_name": "Python 3"
    },
    "language_info": {
      "name": "python"
    }
  },
  "cells": [
    {
      "cell_type": "markdown",
      "metadata": {
        "id": "view-in-github",
        "colab_type": "text"
      },
      "source": [
        "<a href=\"https://colab.research.google.com/github/theakash07/python_codes/blob/google_collab/Problemset1.ipynb\" target=\"_parent\"><img src=\"https://colab.research.google.com/assets/colab-badge.svg\" alt=\"Open In Colab\"/></a>"
      ]
    },
    {
      "cell_type": "markdown",
      "source": [
        "Problem set: 0 David Malan Edex\n"
      ],
      "metadata": {
        "id": "DZ-jQaP05d7Z"
      }
    },
    {
      "cell_type": "code",
      "source": [
        "#Best to use your “indoor voice” sometimes, writing entirely in lowercase.\n",
        "greeting=input().lower()\n",
        "print(greeting)"
      ],
      "metadata": {
        "colab": {
          "base_uri": "https://localhost:8080/"
        },
        "id": "GHppU-Kc5hfN",
        "outputId": "1d565458-63f2-4288-b4c8-5d5b8be57461"
      },
      "execution_count": 4,
      "outputs": [
        {
          "output_type": "stream",
          "name": "stdout",
          "text": [
            "Akash, singh\n",
            "akash, singh\n"
          ]
        }
      ]
    },
    {
      "cell_type": "code",
      "source": [
        "#upper function\n",
        "greet=input(\"Enter your name :\").upper()\n",
        "print(greet)"
      ],
      "metadata": {
        "id": "jnl5FpD98zxG"
      },
      "execution_count": null,
      "outputs": []
    },
    {
      "cell_type": "markdown",
      "source": [
        "Problem 1:"
      ],
      "metadata": {
        "id": "LQvXKp5w6sJ6"
      }
    },
    {
      "cell_type": "code",
      "source": [
        "#Some people have a habit of lecturing speaking rather quickly, and it’d be nice to slow them down, a la YouTube’s 0.75 playback speed, or even by having them pause between words.\n",
        "#here we can use replace function\n",
        "data=input(\"Enter string :\")\n",
        "data=data.replace(\" \",\"...\")\n",
        "print(data)\n"
      ],
      "metadata": {
        "id": "lV6GCR136vOv"
      },
      "execution_count": null,
      "outputs": []
    }
  ]
}