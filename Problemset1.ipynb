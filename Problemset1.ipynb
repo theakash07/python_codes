{
  "nbformat": 4,
  "nbformat_minor": 0,
  "metadata": {
    "colab": {
      "provenance": [],
      "authorship_tag": "ABX9TyPTgt/ef2MUqu/xHjHXdT8P",
      "include_colab_link": true
    },
    "kernelspec": {
      "name": "python3",
      "display_name": "Python 3"
    },
    "language_info": {
      "name": "python"
    }
  },
  "cells": [
    {
      "cell_type": "markdown",
      "metadata": {
        "id": "view-in-github",
        "colab_type": "text"
      },
      "source": [
        "<a href=\"https://colab.research.google.com/github/theakash07/python_codes/blob/google_collab/Problemset1.ipynb\" target=\"_parent\"><img src=\"https://colab.research.google.com/assets/colab-badge.svg\" alt=\"Open In Colab\"/></a>"
      ]
    },
    {
      "cell_type": "markdown",
      "source": [
        "Problem set: 0 David Malan Edex\n"
      ],
      "metadata": {
        "id": "DZ-jQaP05d7Z"
      }
    },
    {
      "cell_type": "code",
      "source": [
        "#Best to use your “indoor voice” sometimes, writing entirely in lowercase.\n",
        "greeting=input().lower()\n",
        "print(greeting)"
      ],
      "metadata": {
        "colab": {
          "base_uri": "https://localhost:8080/"
        },
        "id": "GHppU-Kc5hfN",
        "outputId": "1d565458-63f2-4288-b4c8-5d5b8be57461"
      },
      "execution_count": 4,
      "outputs": [
        {
          "output_type": "stream",
          "name": "stdout",
          "text": [
            "Akash, singh\n",
            "akash, singh\n"
          ]
        }
      ]
    },
    {
      "cell_type": "code",
      "source": [
        "#upper function\n",
        "greet=input(\"Enter your name :\").upper()\n",
        "print(greet)"
      ],
      "metadata": {
        "colab": {
          "base_uri": "https://localhost:8080/"
        },
        "id": "jnl5FpD98zxG",
        "outputId": "566da5d5-0d57-4631-d4d3-261cdb63eac9"
      },
      "execution_count": 12,
      "outputs": [
        {
          "output_type": "stream",
          "name": "stdout",
          "text": [
            "Enter your name :akash singh\n",
            "AKASH SINGH\n"
          ]
        }
      ]
    },
    {
      "cell_type": "markdown",
      "source": [
        "Problem 1:"
      ],
      "metadata": {
        "id": "LQvXKp5w6sJ6"
      }
    },
    {
      "cell_type": "code",
      "source": [
        "#Some people have a habit of lecturing speaking rather quickly, and it’d be nice to slow them down, a la YouTube’s 0.75 playback speed, or even by having them pause between words.\n",
        "#here we can use replace function\n",
        "data=input(\"Enter string :\")\n",
        "data=data.replace(\" \",\"...\")\n",
        "print(data)\n"
      ],
      "metadata": {
        "colab": {
          "base_uri": "https://localhost:8080/"
        },
        "id": "lV6GCR136vOv",
        "outputId": "c377c1d2-ce09-43ee-9967-a3ad40d2ada8"
      },
      "execution_count": 11,
      "outputs": [
        {
          "output_type": "stream",
          "name": "stdout",
          "text": [
            "Enter string :akash singh\n",
            "akash...singh\n"
          ]
        }
      ]
    },
    {
      "cell_type": "markdown",
      "source": [
        "Problem 2:\n"
      ],
      "metadata": {
        "id": "DrnUATyzA452"
      }
    },
    {
      "cell_type": "code",
      "source": [
        "#Before there were emoji, there were emoticons, whereby text like :) was a happy face and text like :( was a sad face. Nowadays, programs tend to convert emoticons to emoji automatically!\n",
        "#here in the dirctionary we use key and value pair which eventually identifying the key value pair..\n",
        "def convert_emoticons_to_emoji(input_string):\n",
        "    emoticon_to_emoji = {\n",
        "        \":)\": \"😊\",\n",
        "        \":D\": \"😃\",\n",
        "        \";)\": \"😉\",\n",
        "        \":(\": \"😞\",\n",
        "        \":P\": \"😛\",\n",
        "        \"<3\": \"❤️\",\n",
        "        \":O\": \"😲\",\n",
        "        \":|\": \"😐\",\n",
        "        \":/\": \"😕\",\n",
        "        \":3\": \"😺\",\n",
        "        \":')\": \"😂\",\n",
        "        \":*\": \"😘\",\n",
        "        \"^_^\": \"😄\",\n",
        "        \">:(\": \"😠\",\n",
        "        \":'(\": \"😢\"\n",
        "        # Add more mappings as needed\n",
        "    }\n",
        "\n",
        "    for emoticon, emoji in emoticon_to_emoji.items():\n",
        "        input_string = input_string.replace(emoticon, emoji)\n",
        "\n",
        "    return input_string\n",
        "\n",
        "input_string = \"Hello there! :) I'm feeling so happy :D\"\n",
        "converted_string = convert_emoticons_to_emoji(input_string)\n",
        "print(converted_string)\n"
      ],
      "metadata": {
        "colab": {
          "base_uri": "https://localhost:8080/"
        },
        "id": "La1V7yzxA6_r",
        "outputId": "fbeb6dbe-17f6-4f4b-acdb-617eefd8d853"
      },
      "execution_count": 26,
      "outputs": [
        {
          "output_type": "stream",
          "name": "stdout",
          "text": [
            "Hello there! 😊 I'm feeling so happy 😃\n"
          ]
        }
      ]
    }
  ]
}