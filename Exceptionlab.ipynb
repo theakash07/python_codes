{
  "nbformat": 4,
  "nbformat_minor": 0,
  "metadata": {
    "colab": {
      "provenance": [],
      "authorship_tag": "ABX9TyPhyl6JOp0Gk1IibYN/rg6P",
      "include_colab_link": true
    },
    "kernelspec": {
      "name": "python3",
      "display_name": "Python 3"
    },
    "language_info": {
      "name": "python"
    }
  },
  "cells": [
    {
      "cell_type": "markdown",
      "metadata": {
        "id": "view-in-github",
        "colab_type": "text"
      },
      "source": [
        "<a href=\"https://colab.research.google.com/github/theakash07/python_codes/blob/google_collab/Exceptionlab.ipynb\" target=\"_parent\"><img src=\"https://colab.research.google.com/assets/colab-badge.svg\" alt=\"Open In Colab\"/></a>"
      ]
    },
    {
      "cell_type": "code",
      "execution_count": 1,
      "metadata": {
        "colab": {
          "base_uri": "https://localhost:8080/",
          "height": 140
        },
        "id": "d9Y7_rfz4b6_",
        "outputId": "18bbdc51-d212-42c4-9070-6fac45991c53"
      },
      "outputs": [
        {
          "output_type": "error",
          "ename": "SyntaxError",
          "evalue": "ignored",
          "traceback": [
            "\u001b[0;36m  File \u001b[0;32m\"<ipython-input-1-19e5aee4f5ef>\"\u001b[0;36m, line \u001b[0;32m1\u001b[0m\n\u001b[0;31m    print(\"Hello world)\u001b[0m\n\u001b[0m          ^\u001b[0m\n\u001b[0;31mSyntaxError\u001b[0m\u001b[0;31m:\u001b[0m unterminated string literal (detected at line 1)\n"
          ]
        }
      ],
      "source": [
        "print(\"Hello world)"
      ]
    },
    {
      "cell_type": "markdown",
      "source": [
        "THere is syntaxError we Encountered in above code"
      ],
      "metadata": {
        "id": "scfSL-BV69qr"
      }
    },
    {
      "cell_type": "code",
      "source": [
        "x=int(input(\"What's x ?\"))  # There can be a Value Error when if someone will type any data type other than an integer.\n",
        "print(f\"x is {x}\")\n"
      ],
      "metadata": {
        "colab": {
          "base_uri": "https://localhost:8080/",
          "height": 210
        },
        "id": "VwdxiWsW7Bmf",
        "outputId": "67355a26-81fa-4d1a-d139-68d498f632c2"
      },
      "execution_count": 7,
      "outputs": [
        {
          "name": "stdout",
          "output_type": "stream",
          "text": [
            "What's x ?0.9\n"
          ]
        },
        {
          "output_type": "error",
          "ename": "ValueError",
          "evalue": "ignored",
          "traceback": [
            "\u001b[0;31m---------------------------------------------------------------------------\u001b[0m",
            "\u001b[0;31mValueError\u001b[0m                                Traceback (most recent call last)",
            "\u001b[0;32m<ipython-input-7-35d2a2000b65>\u001b[0m in \u001b[0;36m<cell line: 1>\u001b[0;34m()\u001b[0m\n\u001b[0;32m----> 1\u001b[0;31m \u001b[0mx\u001b[0m\u001b[0;34m=\u001b[0m\u001b[0mint\u001b[0m\u001b[0;34m(\u001b[0m\u001b[0minput\u001b[0m\u001b[0;34m(\u001b[0m\u001b[0;34m\"What's x ?\"\u001b[0m\u001b[0;34m)\u001b[0m\u001b[0;34m)\u001b[0m  \u001b[0;31m# There can be a Value Error when if someone will type any data type other than an integer.\u001b[0m\u001b[0;34m\u001b[0m\u001b[0;34m\u001b[0m\u001b[0m\n\u001b[0m\u001b[1;32m      2\u001b[0m \u001b[0mprint\u001b[0m\u001b[0;34m(\u001b[0m\u001b[0;34mf\"x is {x}\"\u001b[0m\u001b[0;34m)\u001b[0m\u001b[0;34m\u001b[0m\u001b[0;34m\u001b[0m\u001b[0m\n",
            "\u001b[0;31mValueError\u001b[0m: invalid literal for int() with base 10: '0.9'"
          ]
        }
      ]
    },
    {
      "cell_type": "code",
      "source": [
        "#using the \"try and except\" function to overcome such exception\n",
        "#running the same program this time with \"try and Except\"\n",
        "#Using \"WHILE\" put this code into a loop it will keep asking until you don't input an integer.\n",
        "\n",
        "while True:\n",
        "  try:\n",
        "    x=int(input(\"Enter x :\"))\n",
        "  except ValueError:\n",
        "    print(\"x is not an integer\")\n",
        "  else:\n",
        "    break\n",
        "print(f\"x is {x}\")\n",
        "\n",
        "\n"
      ],
      "metadata": {
        "colab": {
          "base_uri": "https://localhost:8080/"
        },
        "id": "KtzFFWOk8I4m",
        "outputId": "bbbe42c4-4a54-48ad-c7d3-85b885f57a0f"
      },
      "execution_count": 17,
      "outputs": [
        {
          "output_type": "stream",
          "name": "stdout",
          "text": [
            "Enter x :cat\n",
            "x is not an integer\n",
            "Enter x :9/0\n",
            "x is not an integer\n",
            "Enter x :akash\n",
            "x is not an integer\n",
            "Enter x :9.9\n",
            "x is not an integer\n",
            "Enter x :9\n",
            "x is 9\n"
          ]
        }
      ]
    },
    {
      "cell_type": "code",
      "source": [
        "#making the above code shorter and optimised\n",
        "\n",
        "while True:\n",
        "  try:\n",
        "    x=int(input(\"Enter x:\")) #The right part of x is input function which is int but if there is something other than int then it will not be assigned to x and it will probably\n",
        "    break                        #generate a valueError so but if the value is correct it will break the loop and print the value\n",
        "  except ValueError:\n",
        "    print(\"x is not an integer\")\n",
        "\n",
        "print(f\"x is {x}\")"
      ],
      "metadata": {
        "colab": {
          "base_uri": "https://localhost:8080/"
        },
        "id": "jxte-BMKBQNQ",
        "outputId": "27b8b370-8147-4584-f4c9-1da45345da7b"
      },
      "execution_count": 19,
      "outputs": [
        {
          "output_type": "stream",
          "name": "stdout",
          "text": [
            "Enter x:9.9\n",
            "x is not an integer\n",
            "Enter x:9\n",
            "x is 9\n"
          ]
        }
      ]
    },
    {
      "cell_type": "code",
      "source": [
        "def main():\n",
        "    x = get_int()\n",
        "    print(f\"x is {x}\")\n",
        "\n",
        "\n",
        "def get_int():\n",
        "    while True:\n",
        "        try:\n",
        "            x = int(input(\"Enter x: \"))\n",
        "        except ValueError:\n",
        "            print(\"x is not an integer.\")\n",
        "        else:\n",
        "            break #insted of using break you can\n",
        "    return x\n",
        "\n",
        "\n",
        "\n",
        "if __name__ == \"__main__\":\n",
        "    main()\n"
      ],
      "metadata": {
        "colab": {
          "base_uri": "https://localhost:8080/"
        },
        "id": "i5TB9XzWCWgK",
        "outputId": "b869144e-06bf-41a0-fbc9-7aee9d8b071e"
      },
      "execution_count": 23,
      "outputs": [
        {
          "output_type": "stream",
          "name": "stdout",
          "text": [
            "Enter x: Akash\n",
            "x is not an integer.\n",
            "Enter x: klajd\n",
            "x is not an integer.\n",
            "Enter x: dkjhg\n",
            "x is not an integer.\n",
            "Enter x: 98\n",
            "x is 98\n"
          ]
        }
      ]
    },
    {
      "cell_type": "code",
      "source": [
        "def main():\n",
        "    x = get_int()\n",
        "    print(f\"x is {x}\")\n",
        "\n",
        "\n",
        "def get_int():\n",
        "    while True:\n",
        "        try:\n",
        "            x = int(input(\"Enter x: \"))\n",
        "        except ValueError:\n",
        "            print(\"x is not an integer.\")\n",
        "        else:\n",
        "          return x\n",
        "\n",
        "\n",
        "\n",
        "\n",
        "\n",
        "if __name__ == \"__main__\":\n",
        "    main()\n"
      ],
      "metadata": {
        "id": "N6J1rK1rDWjs"
      },
      "execution_count": null,
      "outputs": []
    },
    {
      "cell_type": "code",
      "source": [
        "# It's more optimised if we are using return inside try block\n",
        "def main():\n",
        "    x = get_int()\n",
        "    print(f\"x is {x}\")\n",
        "\n",
        "\n",
        "def get_int():\n",
        "    while True:\n",
        "        try:\n",
        "            x = int(input(\"Enter x: \"))\n",
        "            return x\n",
        "        except ValueError:\n",
        "            print(\"x is not an integer.\")\n",
        "\n",
        "\n",
        "if __name__ == \"__main__\":\n",
        "    main()\n"
      ],
      "metadata": {
        "colab": {
          "base_uri": "https://localhost:8080/"
        },
        "id": "nuXyRPAJDcbf",
        "outputId": "b670e704-c0b0-4441-c090-cf4df4927b28"
      },
      "execution_count": 24,
      "outputs": [
        {
          "output_type": "stream",
          "name": "stdout",
          "text": [
            "Enter x: 9.9\n",
            "x is not an integer.\n",
            "Enter x: 8\n",
            "x is 8\n"
          ]
        }
      ]
    },
    {
      "cell_type": "code",
      "source": [
        "# It's more optimised if we are using return inside try block\n",
        "def main():\n",
        "    x = get_int()\n",
        "    print(f\"x is {x}\")\n",
        "\n",
        "\n",
        "def get_int():\n",
        "    while True:\n",
        "        try:\n",
        "            x = int(input(\"Enter x: \"))\n",
        "            return x\n",
        "        except ValueError:\n",
        "            pass #you can use \"pass\" key word instead of using\n",
        "\n",
        "\n",
        "if __name__ == \"__main__\":\n",
        "    main()\n"
      ],
      "metadata": {
        "id": "fwAnAbshEFCM"
      },
      "execution_count": null,
      "outputs": []
    },
    {
      "cell_type": "code",
      "source": [
        "# It's more optimized if we are using return inside the try block\n",
        "def main():\n",
        "    x = get_int()\n",
        "    print(f\"x is {x}\")\n",
        "\n",
        "\n",
        "def get_int():\n",
        "    while True:\n",
        "        try:\n",
        "            return int(input(\"Enter x: \"))\n",
        "        except ValueError:\n",
        "            pass #you can use \"pass\" key word instead of using\n",
        "\n",
        "if __name__ == \"__main__\":\n",
        "    main()\n"
      ],
      "metadata": {
        "colab": {
          "base_uri": "https://localhost:8080/"
        },
        "id": "5kPEIKc3Elpx",
        "outputId": "be95e6ff-3a52-4e2a-e646-39a341196ae4"
      },
      "execution_count": 25,
      "outputs": [
        {
          "output_type": "stream",
          "name": "stdout",
          "text": [
            "Enter x: data\n",
            "Enter x: much\n",
            "Enter x: hello\n",
            "Enter x: 8.909\n",
            "Enter x: 9\n",
            "x is 9\n"
          ]
        }
      ]
    },
    {
      "cell_type": "code",
      "source": [
        "from prompt_toolkit.shortcuts.prompt import prompt\n",
        "# It's more optimized if we are using return inside the try block\n",
        "def main():\n",
        "    x = get_int(\"What's x :\")\n",
        "    print(f\"x is {x}\")\n",
        "\n",
        "\n",
        "def get_int(prompt):\n",
        "    while True:\n",
        "        try:\n",
        "            return int(input(prompt))\n",
        "        except ValueError:\n",
        "            pass #you can use \"pass\" key word instead of using\n",
        "\n",
        "if __name__ == \"__main__\":\n",
        "    main()\n"
      ],
      "metadata": {
        "colab": {
          "base_uri": "https://localhost:8080/"
        },
        "id": "9OUUFeD6Fl12",
        "outputId": "fff5ec19-c3f5-4745-8618-53025e9a1b8d"
      },
      "execution_count": 26,
      "outputs": [
        {
          "output_type": "stream",
          "name": "stdout",
          "text": [
            "What's x :terra\n",
            "What's x :8\n",
            "x is 8\n"
          ]
        }
      ]
    },
    {
      "cell_type": "markdown",
      "source": [
        "RAISE keyword"
      ],
      "metadata": {
        "id": "rA6b0PciGNP1"
      }
    },
    {
      "cell_type": "code",
      "source": [
        "x = -1\n",
        "\n",
        "if x < 0:\n",
        "  raise Exception(\"Sorry, no numbers below zero\")"
      ],
      "metadata": {
        "colab": {
          "base_uri": "https://localhost:8080/",
          "height": 210
        },
        "id": "FwtKUm4-GPR6",
        "outputId": "58a5552e-b9cc-4fd7-8462-51560fae1666"
      },
      "execution_count": 29,
      "outputs": [
        {
          "output_type": "error",
          "ename": "Exception",
          "evalue": "ignored",
          "traceback": [
            "\u001b[0;31m---------------------------------------------------------------------------\u001b[0m",
            "\u001b[0;31mException\u001b[0m                                 Traceback (most recent call last)",
            "\u001b[0;32m<ipython-input-29-2edc57024fbc>\u001b[0m in \u001b[0;36m<cell line: 3>\u001b[0;34m()\u001b[0m\n\u001b[1;32m      2\u001b[0m \u001b[0;34m\u001b[0m\u001b[0m\n\u001b[1;32m      3\u001b[0m \u001b[0;32mif\u001b[0m \u001b[0mx\u001b[0m \u001b[0;34m<\u001b[0m \u001b[0;36m0\u001b[0m\u001b[0;34m:\u001b[0m\u001b[0;34m\u001b[0m\u001b[0;34m\u001b[0m\u001b[0m\n\u001b[0;32m----> 4\u001b[0;31m   \u001b[0;32mraise\u001b[0m \u001b[0mException\u001b[0m\u001b[0;34m(\u001b[0m\u001b[0;34m\"Sorry, no numbers below zero\"\u001b[0m\u001b[0;34m)\u001b[0m\u001b[0;34m\u001b[0m\u001b[0;34m\u001b[0m\u001b[0m\n\u001b[0m",
            "\u001b[0;31mException\u001b[0m: Sorry, no numbers below zero"
          ]
        }
      ]
    }
  ]
}