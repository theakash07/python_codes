{
  "nbformat": 4,
  "nbformat_minor": 0,
  "metadata": {
    "colab": {
      "provenance": [],
      "authorship_tag": "ABX9TyPJcakwdGT7ew84L3yuZAWr",
      "include_colab_link": true
    },
    "kernelspec": {
      "name": "python3",
      "display_name": "Python 3"
    },
    "language_info": {
      "name": "python"
    }
  },
  "cells": [
    {
      "cell_type": "markdown",
      "metadata": {
        "id": "view-in-github",
        "colab_type": "text"
      },
      "source": [
        "<a href=\"https://colab.research.google.com/github/theakash07/python_codes/blob/google_collab/Conditionals.ipynb\" target=\"_parent\"><img src=\"https://colab.research.google.com/assets/colab-badge.svg\" alt=\"Open In Colab\"/></a>"
      ]
    },
    {
      "cell_type": "markdown",
      "source": [
        "**1. GREATER  THAN \">\"**\n",
        "**2. LESS THAN \"<\"**\n",
        "**3.GREATER THAN OR EQUAL TO >=**\n",
        "**4. LESS THAN OR EQUAL TO <= **\n",
        "** == EQUALITY **\n",
        "** != NOT EQUAL TO **\n"
      ],
      "metadata": {
        "id": "4_F473vhWUw_"
      }
    },
    {
      "cell_type": "markdown",
      "source": [
        "**Conditionals BY David Malan**"
      ],
      "metadata": {
        "id": "iERVjcFiX8GC"
      }
    },
    {
      "cell_type": "code",
      "source": [
        "#compare.py\n",
        "x=int(input(\"Enter x :\"))\n",
        "y=int(input(\"Enter Y :\"))\n",
        "#When you use multiple if. It asks multiple questions but instead if you use elif so once the condition meets it won't ask further question\\\n",
        "\n",
        "if x>y: #it's a bool expression cause here it's two outcome Either Ture or False\n",
        "  print(\" x is greater than Y\")\n",
        "elif x<y:\n",
        "  print(\"X is less than y :\")\n",
        "elif x==y:\n",
        "  print(\"X and Y is Equal\")\n"
      ],
      "metadata": {
        "colab": {
          "base_uri": "https://localhost:8080/"
        },
        "id": "a25dmVKFYCuv",
        "outputId": "4f4412d7-5826-44c2-e997-b0eaf5fba3b7"
      },
      "execution_count": 2,
      "outputs": [
        {
          "output_type": "stream",
          "name": "stdout",
          "text": [
            "Enter x :4\n",
            "Enter Y :4\n",
            "X and Y is Equal\n"
          ]
        }
      ]
    },
    {
      "cell_type": "code",
      "source": [
        "x=int(input(\"Enter x : \"))\n",
        "n=int(input(\"Enter n :\"))\n",
        "\n",
        "if x<n or x>n : #can optimise this code into much simpler.\n",
        "  print(\"X is not equal to y\")\n",
        "else:\n",
        "  print(\"X is equal to Y\")\n"
      ],
      "metadata": {
        "colab": {
          "base_uri": "https://localhost:8080/"
        },
        "id": "QBSdnIE63Ici",
        "outputId": "ae876295-8173-49d7-e6f3-430baf98fda8"
      },
      "execution_count": 2,
      "outputs": [
        {
          "output_type": "stream",
          "name": "stdout",
          "text": [
            "Enter x : 5\n",
            "Enter n :5\n",
            "X is equal to Y\n"
          ]
        }
      ]
    },
    {
      "cell_type": "code",
      "source": [
        "x=int(input(\"Enter x :\"))\n",
        "y=int(input(\"Enter y :\"))\n",
        "if x==y:\n",
        "  print(\"Enter x :\")\n",
        "else:\n",
        "  print(\"X is not equal to Y\")\n",
        ""
      ],
      "metadata": {
        "colab": {
          "base_uri": "https://localhost:8080/"
        },
        "id": "psLpICj83nQ_",
        "outputId": "d129fee2-db50-4bb8-e421-88d38710da46"
      },
      "execution_count": 3,
      "outputs": [
        {
          "output_type": "stream",
          "name": "stdout",
          "text": [
            "Enter x :6\n",
            "Enter y :7\n",
            "X is not equal to Y\n"
          ]
        }
      ]
    },
    {
      "cell_type": "code",
      "source": [
        "score = int(input(\"Enter score: \"))\n",
        "if  score >=90:\n",
        "  print(\"Grade A: \")\n",
        "elif score>=80:\n",
        "  print(\"Grade C\")\n",
        "elif score >=70:\n",
        "  print(\"Grade C:\")\n",
        "elif score >=60:\n",
        "  print(\"Grade D\")\n"
      ],
      "metadata": {
        "colab": {
          "base_uri": "https://localhost:8080/"
        },
        "id": "gYioLPUL7LTr",
        "outputId": "c4e4ee34-e098-4aff-991b-9e922b0085af"
      },
      "execution_count": 6,
      "outputs": [
        {
          "output_type": "stream",
          "name": "stdout",
          "text": [
            "Enter score: 80\n",
            "Grade C\n"
          ]
        }
      ]
    },
    {
      "cell_type": "markdown",
      "source": [
        "parity.py"
      ],
      "metadata": {
        "id": "_S_CcoSZ9GCa"
      }
    },
    {
      "cell_type": "code",
      "source": [
        "x=int(input(\"what's x?\"))\n",
        "if x%2==0:\n",
        "  print(\"it's even  :\")\n",
        "else:\n",
        "  print(\"IT's odd number:\")"
      ],
      "metadata": {
        "colab": {
          "base_uri": "https://localhost:8080/"
        },
        "id": "Q02WjMvj9HUM",
        "outputId": "8d8b3a0c-bfc1-4026-ad86-8f4102b1cc72"
      },
      "execution_count": 8,
      "outputs": [
        {
          "output_type": "stream",
          "name": "stdout",
          "text": [
            "what's x?70\n",
            "it's even  :\n"
          ]
        }
      ]
    },
    {
      "cell_type": "code",
      "source": [
        "def main():\n",
        "  x=int(input(\"Enter x :\"))\n",
        "  if is_even(x):\n",
        "    print(\"even: \")\n",
        "  else :\n",
        "    print(\"ODd\")\n",
        "\n",
        "def is_even(n):\n",
        "  if n %2==0:\n",
        "    return True #return True if n%2==0 else False #can write this way also or # return n%2==0\n",
        "  else:\n",
        "    return False\n",
        "\n",
        "main()"
      ],
      "metadata": {
        "colab": {
          "base_uri": "https://localhost:8080/"
        },
        "id": "1v1hmUmJ910x",
        "outputId": "e8b22605-9651-43ce-88c3-c6a01aa94892"
      },
      "execution_count": 11,
      "outputs": [
        {
          "output_type": "stream",
          "name": "stdout",
          "text": [
            "Enter x :7\n",
            "ODd\n"
          ]
        }
      ]
    },
    {
      "cell_type": "code",
      "source": [
        "def main():\n",
        "  x=int(input(\"Enter x :\"))\n",
        "  if is_even(x):\n",
        "    print(\"even: \")\n",
        "  else :\n",
        "    print(\"ODd\")\n",
        "\n",
        "def is_even(n):\n",
        "  if n %2==0:\n",
        "    return n%2==0 #return True if n%2==0 else False #can write this way also or # return n%2==0\n",
        "\n",
        "\n",
        "main()"
      ],
      "metadata": {
        "colab": {
          "base_uri": "https://localhost:8080/"
        },
        "id": "Nlh5vJAX_pjj",
        "outputId": "3d2f86db-9c21-47bb-d2f9-29d92d54c229"
      },
      "execution_count": 13,
      "outputs": [
        {
          "output_type": "stream",
          "name": "stdout",
          "text": [
            "Enter x :7\n",
            "ODd\n"
          ]
        }
      ]
    },
    {
      "cell_type": "markdown",
      "source": [
        "Match  FUnction ⁉"
      ],
      "metadata": {
        "id": "oKMn7-O__yB7"
      }
    },
    {
      "cell_type": "code",
      "source": [
        "#house.py\n",
        "name=input(\"WHat's your name :\")\n",
        "if name==\"harry\":\n",
        "  print(\"Gryffindor\")\n",
        "elif name==\"Ron\":\n",
        "  print(\"Gryffindoe\")\n",
        "elif name ==\"Hermione\":\n",
        "  print(\"Gryffindor\")\n",
        "else :\n",
        "  print(\"Who?\")"
      ],
      "metadata": {
        "colab": {
          "base_uri": "https://localhost:8080/"
        },
        "id": "AGi_mLTm_zem",
        "outputId": "c159d773-babd-48e4-fabf-a2802cc3b3fd"
      },
      "execution_count": 14,
      "outputs": [
        {
          "output_type": "stream",
          "name": "stdout",
          "text": [
            "WHat's your name :harry\n",
            "Gryffindor\n"
          ]
        }
      ]
    },
    {
      "cell_type": "code",
      "source": [
        "#house.py\n",
        "name=input(\"WHat's your name:\")\n",
        "if name==\"harry\" or name == \"Ron\":\n",
        "  print(\"Gryffindor\")\n",
        "elif name ==\"Hermione\":\n",
        "  print(\"Gryffindor\")\n",
        "else :\n",
        "  print(\"Who?\")"
      ],
      "metadata": {
        "colab": {
          "base_uri": "https://localhost:8080/"
        },
        "id": "08z3ptLPAT-3",
        "outputId": "90225e6c-8a7a-4c00-f9a2-5f8c76998323"
      },
      "execution_count": 15,
      "outputs": [
        {
          "output_type": "stream",
          "name": "stdout",
          "text": [
            "WHat's your name:Ron\n",
            "Gryffindor\n"
          ]
        }
      ]
    },
    {
      "cell_type": "markdown",
      "source": [
        "Instead of above Code to make the code more optimised We use Match"
      ],
      "metadata": {
        "id": "eqJKjPdPAk9Z"
      }
    },
    {
      "cell_type": "code",
      "source": [
        "name=input(\"What's your name : ?\")\n",
        "match name:\n",
        "  case \"harry\":\n",
        "    print(\"Gryffindor\")\n",
        "  case \"Hermione\":\n",
        "    print(\"Gryffindor\")\n",
        "  case \"ROn \":\n",
        "    print(\"Gryffindor\")\n",
        "  case \"Draco \":\n",
        "    print(\"Slytherin\")\n",
        "  case _:\n",
        "    print(\"WHo ?\")"
      ],
      "metadata": {
        "colab": {
          "base_uri": "https://localhost:8080/"
        },
        "id": "MWqaraBAApgO",
        "outputId": "c00ec773-e266-42b9-eedc-a68999718d6f"
      },
      "execution_count": 16,
      "outputs": [
        {
          "output_type": "stream",
          "name": "stdout",
          "text": [
            "What's your name : ?harry\n",
            "Gryffindor\n"
          ]
        }
      ]
    },
    {
      "cell_type": "code",
      "source": [
        "name=input(\"What's your name : ?\").title().strip()\n",
        "match name:\n",
        "  case \"harry\" | \"Ron\" | \"Hermione\":\n",
        "    print(\"Gryffindor\")\n",
        "  case \"Draco \":\n",
        "    print(\"Slytherin\")\n",
        "  case _:\n",
        "    print(\"WHo ?\")"
      ],
      "metadata": {
        "colab": {
          "base_uri": "https://localhost:8080/"
        },
        "id": "nuBRg0u5BXAP",
        "outputId": "38bd80f7-5906-496e-baf7-67cdb40cfe4d"
      },
      "execution_count": 22,
      "outputs": [
        {
          "output_type": "stream",
          "name": "stdout",
          "text": [
            "What's your name : ?          ron\n",
            "Gryffindor\n"
          ]
        }
      ]
    }
  ]
}