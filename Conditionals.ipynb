{
  "nbformat": 4,
  "nbformat_minor": 0,
  "metadata": {
    "colab": {
      "provenance": [],
      "authorship_tag": "ABX9TyN+RSnd4+hBuf+vLEku8ou4",
      "include_colab_link": true
    },
    "kernelspec": {
      "name": "python3",
      "display_name": "Python 3"
    },
    "language_info": {
      "name": "python"
    }
  },
  "cells": [
    {
      "cell_type": "markdown",
      "metadata": {
        "id": "view-in-github",
        "colab_type": "text"
      },
      "source": [
        "<a href=\"https://colab.research.google.com/github/theakash07/python_codes/blob/google_collab/Conditionals.ipynb\" target=\"_parent\"><img src=\"https://colab.research.google.com/assets/colab-badge.svg\" alt=\"Open In Colab\"/></a>"
      ]
    },
    {
      "cell_type": "markdown",
      "source": [
        "**1. GREATER  THAN \">\"**\n",
        "**2. LESS THAN \"<\"**\n",
        "**3.GREATER THAN OR EQUAL TO >=**\n",
        "**4. LESS THAN OR EQUAL TO <= **\n",
        "** == EQUALITY **\n",
        "** != NOT EQUAL TO **\n"
      ],
      "metadata": {
        "id": "4_F473vhWUw_"
      }
    },
    {
      "cell_type": "markdown",
      "source": [
        "**Conditionals BY David Malan**"
      ],
      "metadata": {
        "id": "iERVjcFiX8GC"
      }
    },
    {
      "cell_type": "code",
      "source": [
        "#compare.py\n",
        "x=int(input(\"Enter x :\"))\n",
        "y=int(input(\"Enter Y :\"))\n",
        "#When you use multiple if. It asks multiple questions but instead if you use elif so once the condition meets it won't ask further question\\\n",
        "\n",
        "if x>y: #it's a bool expression cause here it's two outcome Either Ture or False\n",
        "  print(\" x is greater than Y\")\n",
        "elif x<y:\n",
        "  print(\"X is less than y :\")\n",
        "elif x==y:\n",
        "  print(\"X and Y is Equal\")\n"
      ],
      "metadata": {
        "colab": {
          "base_uri": "https://localhost:8080/"
        },
        "id": "a25dmVKFYCuv",
        "outputId": "4f4412d7-5826-44c2-e997-b0eaf5fba3b7"
      },
      "execution_count": 2,
      "outputs": [
        {
          "output_type": "stream",
          "name": "stdout",
          "text": [
            "Enter x :4\n",
            "Enter Y :4\n",
            "X and Y is Equal\n"
          ]
        }
      ]
    },
    {
      "cell_type": "code",
      "source": [
        "x=int(input(\"Enter x : \"))\n",
        "n=int(input(\"Enter n :\"))\n",
        "\n",
        "if x<n or x>n : #can optimise this code into much simpler.\n",
        "  print(\"X is not equal to y\")\n",
        "else:\n",
        "  print(\"X is equal to Y\")\n"
      ],
      "metadata": {
        "colab": {
          "base_uri": "https://localhost:8080/"
        },
        "id": "QBSdnIE63Ici",
        "outputId": "ae876295-8173-49d7-e6f3-430baf98fda8"
      },
      "execution_count": 2,
      "outputs": [
        {
          "output_type": "stream",
          "name": "stdout",
          "text": [
            "Enter x : 5\n",
            "Enter n :5\n",
            "X is equal to Y\n"
          ]
        }
      ]
    },
    {
      "cell_type": "code",
      "source": [
        "x=int(input(\"Enter x :\"))\n",
        "y=int(input(\"Enter y :\"))\n",
        "if x==y:\n",
        "  print(\"Enter x :\")\n",
        "else:\n",
        "  print(\"X is not equal to Y\")\n",
        ""
      ],
      "metadata": {
        "colab": {
          "base_uri": "https://localhost:8080/"
        },
        "id": "psLpICj83nQ_",
        "outputId": "d129fee2-db50-4bb8-e421-88d38710da46"
      },
      "execution_count": 3,
      "outputs": [
        {
          "output_type": "stream",
          "name": "stdout",
          "text": [
            "Enter x :6\n",
            "Enter y :7\n",
            "X is not equal to Y\n"
          ]
        }
      ]
    },
    {
      "cell_type": "code",
      "source": [
        "score = int(input(\"Enter score: \"))\n",
        "if  score >=90:\n",
        "  print(\"Grade A: \")\n",
        "elif score>=80:\n",
        "  print(\"Grade C\")\n",
        "elif score >=70:\n",
        "  print(\"Grade C:\")\n",
        "elif score >=60:\n",
        "  print(\"Grade D\")\n"
      ],
      "metadata": {
        "colab": {
          "base_uri": "https://localhost:8080/"
        },
        "id": "gYioLPUL7LTr",
        "outputId": "c4e4ee34-e098-4aff-991b-9e922b0085af"
      },
      "execution_count": 6,
      "outputs": [
        {
          "output_type": "stream",
          "name": "stdout",
          "text": [
            "Enter score: 80\n",
            "Grade C\n"
          ]
        }
      ]
    },
    {
      "cell_type": "markdown",
      "source": [
        "parity.py"
      ],
      "metadata": {
        "id": "_S_CcoSZ9GCa"
      }
    },
    {
      "cell_type": "code",
      "source": [
        "x=int(input(\"what's x?\"))\n",
        "if x%2==0:\n",
        "  print(\"it's even  :\")\n",
        "else:\n",
        "  print(\"IT's odd number:\")"
      ],
      "metadata": {
        "colab": {
          "base_uri": "https://localhost:8080/"
        },
        "id": "Q02WjMvj9HUM",
        "outputId": "8d8b3a0c-bfc1-4026-ad86-8f4102b1cc72"
      },
      "execution_count": 8,
      "outputs": [
        {
          "output_type": "stream",
          "name": "stdout",
          "text": [
            "what's x?70\n",
            "it's even  :\n"
          ]
        }
      ]
    }
  ]
}