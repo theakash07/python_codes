{
  "nbformat": 4,
  "nbformat_minor": 0,
  "metadata": {
    "colab": {
      "provenance": [],
      "authorship_tag": "ABX9TyPF4b9HKEEESp+MgdN1j6CC",
      "include_colab_link": true
    },
    "kernelspec": {
      "name": "python3",
      "display_name": "Python 3"
    },
    "language_info": {
      "name": "python"
    }
  },
  "cells": [
    {
      "cell_type": "markdown",
      "metadata": {
        "id": "view-in-github",
        "colab_type": "text"
      },
      "source": [
        "<a href=\"https://colab.research.google.com/github/theakash07/python_codes/blob/google_collab/apidata.ipynb\" target=\"_parent\"><img src=\"https://colab.research.google.com/assets/colab-badge.svg\" alt=\"Open In Colab\"/></a>"
      ]
    },
    {
      "cell_type": "code",
      "execution_count": 1,
      "metadata": {
        "colab": {
          "base_uri": "https://localhost:8080/"
        },
        "id": "rHlTBnsuIJW5",
        "outputId": "d2c39be7-3a66-4b7b-b9f8-e5f09334496d"
      },
      "outputs": [
        {
          "output_type": "stream",
          "name": "stdout",
          "text": [
            "Requirement already satisfied: requests in /usr/local/lib/python3.10/dist-packages (2.31.0)\n",
            "Requirement already satisfied: charset-normalizer<4,>=2 in /usr/local/lib/python3.10/dist-packages (from requests) (3.2.0)\n",
            "Requirement already satisfied: idna<4,>=2.5 in /usr/local/lib/python3.10/dist-packages (from requests) (3.4)\n",
            "Requirement already satisfied: urllib3<3,>=1.21.1 in /usr/local/lib/python3.10/dist-packages (from requests) (2.0.4)\n",
            "Requirement already satisfied: certifi>=2017.4.17 in /usr/local/lib/python3.10/dist-packages (from requests) (2023.7.22)\n"
          ]
        }
      ],
      "source": [
        "pip install requests\n"
      ]
    },
    {
      "cell_type": "code",
      "source": [
        "import requests"
      ],
      "metadata": {
        "id": "Jva41I65Iafo"
      },
      "execution_count": 2,
      "outputs": []
    },
    {
      "cell_type": "code",
      "source": [
        "response=requests.get('https://randomuser.me/api')\n",
        "print(response.status_code)\n",
        "print(response.json())\n",
        "gender=response.json()['results'][0]['gender']\n",
        "print(gender)"
      ],
      "metadata": {
        "colab": {
          "base_uri": "https://localhost:8080/"
        },
        "id": "dmSPefU3IieU",
        "outputId": "3228bd18-2a5e-4c11-acca-8ffaa2ef8a16"
      },
      "execution_count": 9,
      "outputs": [
        {
          "output_type": "stream",
          "name": "stdout",
          "text": [
            "200\n",
            "{'results': [{'gender': 'female', 'name': {'title': 'Mrs', 'first': 'Sophie', 'last': 'Grewal'}, 'location': {'street': {'number': 9473, 'name': 'Tecumseh Rd'}, 'city': 'Wellington', 'state': 'Yukon', 'country': 'Canada', 'postcode': 'H4G 0O2', 'coordinates': {'latitude': '-69.2965', 'longitude': '80.8518'}, 'timezone': {'offset': '+5:30', 'description': 'Bombay, Calcutta, Madras, New Delhi'}}, 'email': 'sophie.grewal@example.com', 'login': {'uuid': 'f69bfeff-1934-41b5-8f71-8e67d8bd8692', 'username': 'bigleopard925', 'password': 'jared', 'salt': 'KlpgRuX8', 'md5': 'd152d2919b210889ccaa4c116e80f55a', 'sha1': '070c3ab5a97f1fd539fad3c38eeb28c59072c8f3', 'sha256': 'c3cc78c8858cf75f56e5b5e8d23df73650c7fee889ed5ab3a5ccbb4e295f817e'}, 'dob': {'date': '1966-11-16T18:39:11.731Z', 'age': 56}, 'registered': {'date': '2011-01-25T07:27:08.634Z', 'age': 12}, 'phone': 'O78 O45-1681', 'cell': 'Z81 K31-0906', 'id': {'name': 'SIN', 'value': '515785798'}, 'picture': {'large': 'https://randomuser.me/api/portraits/women/79.jpg', 'medium': 'https://randomuser.me/api/portraits/med/women/79.jpg', 'thumbnail': 'https://randomuser.me/api/portraits/thumb/women/79.jpg'}, 'nat': 'CA'}], 'info': {'seed': 'd115e96ccccbfd3c', 'results': 1, 'page': 1, 'version': '1.4'}}\n",
            "female\n"
          ]
        }
      ]
    },
    {
      "cell_type": "code",
      "source": [
        "response=requests.get('https://randomuser.me/api')\n",
        "print(response.status_code)\n",
        "#print(response.json())\n",
        "name=response.json()['results'][0]['name']['first']\n",
        "print(name)\n",
        "last=response.json()['results'][0]['name']['last']\n",
        "print(last)"
      ],
      "metadata": {
        "colab": {
          "base_uri": "https://localhost:8080/"
        },
        "id": "aazh9oXdKl6I",
        "outputId": "41235e0c-7860-4af1-991e-e8c778d28e10"
      },
      "execution_count": 14,
      "outputs": [
        {
          "output_type": "stream",
          "name": "stdout",
          "text": [
            "200\n",
            "Ievstafiy\n",
            "Grishchuk\n"
          ]
        }
      ]
    },
    {
      "cell_type": "code",
      "source": [
        "response=requests.get('https://randomuser.me/api')\n",
        "print(response.status_code)\n",
        "#print(response.json())\n",
        "age=response.json()['results'][0]['dob']['age']\n",
        "print(age)\n"
      ],
      "metadata": {
        "colab": {
          "base_uri": "https://localhost:8080/"
        },
        "id": "aWbUxXOXL8qG",
        "outputId": "d20f8a45-3675-4242-dd86-a334925b5b25"
      },
      "execution_count": 17,
      "outputs": [
        {
          "output_type": "stream",
          "name": "stdout",
          "text": [
            "200\n",
            "59\n"
          ]
        }
      ]
    },
    {
      "cell_type": "code",
      "source": [
        "response=requests.get('https://randomuser.me/api')\n",
        "print(response.status_code)\n",
        "#print(response.json())\n",
        "age=response.json()['results'][0]['location']['street']['number']\n",
        "print(age)\n"
      ],
      "metadata": {
        "colab": {
          "base_uri": "https://localhost:8080/"
        },
        "id": "hyBRDNy9NEZy",
        "outputId": "bfa006aa-c1b4-4a95-e014-d46a8703ca8a"
      },
      "execution_count": 19,
      "outputs": [
        {
          "output_type": "stream",
          "name": "stdout",
          "text": [
            "200\n",
            "7927\n"
          ]
        }
      ]
    }
  ]
}