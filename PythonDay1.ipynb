{
  "nbformat": 4,
  "nbformat_minor": 0,
  "metadata": {
    "colab": {
      "provenance": [],
      "authorship_tag": "ABX9TyOMuISz+AyzfI4w2+iBT0rL",
      "include_colab_link": true
    },
    "kernelspec": {
      "name": "python3",
      "display_name": "Python 3"
    },
    "language_info": {
      "name": "python"
    }
  },
  "cells": [
    {
      "cell_type": "markdown",
      "metadata": {
        "id": "view-in-github",
        "colab_type": "text"
      },
      "source": [
        "<a href=\"https://colab.research.google.com/github/theakash07/python_codes/blob/google_collab/PythonDay1.ipynb\" target=\"_parent\"><img src=\"https://colab.research.google.com/assets/colab-badge.svg\" alt=\"Open In Colab\"/></a>"
      ]
    },
    {
      "cell_type": "code",
      "execution_count": 7,
      "metadata": {
        "colab": {
          "base_uri": "https://localhost:8080/",
          "height": 262
        },
        "id": "J_yl0gWb06N5",
        "outputId": "4806d931-468b-4c81-b30c-e15bb034b51f"
      },
      "outputs": [
        {
          "output_type": "stream",
          "name": "stdout",
          "text": [
            "100.125\n"
          ]
        },
        {
          "output_type": "error",
          "ename": "TypeError",
          "evalue": "ignored",
          "traceback": [
            "\u001b[0;31m---------------------------------------------------------------------------\u001b[0m",
            "\u001b[0;31mTypeError\u001b[0m                                 Traceback (most recent call last)",
            "\u001b[0;32m<ipython-input-7-a05609c714eb>\u001b[0m in \u001b[0;36m<cell line: 5>\u001b[0;34m()\u001b[0m\n\u001b[1;32m      3\u001b[0m \u001b[0mm\u001b[0m \u001b[0;34m=\u001b[0m \u001b[0mprice\u001b[0m \u001b[0;34m+\u001b[0m \u001b[0mtax\u001b[0m    \u001b[0;31m# Calculate the total price including tax\u001b[0m\u001b[0;34m\u001b[0m\u001b[0;34m\u001b[0m\u001b[0m\n\u001b[1;32m      4\u001b[0m \u001b[0mprint\u001b[0m\u001b[0;34m(\u001b[0m\u001b[0mm\u001b[0m\u001b[0;34m)\u001b[0m           \u001b[0;31m# Print the total price\u001b[0m\u001b[0;34m\u001b[0m\u001b[0;34m\u001b[0m\u001b[0m\n\u001b[0;32m----> 5\u001b[0;31m \u001b[0mx\u001b[0m \u001b[0;34m=\u001b[0m \u001b[0mprice\u001b[0m \u001b[0;34m+\u001b[0m \u001b[0m_\u001b[0m      \u001b[0;31m# Add the last printed result to the price\u001b[0m\u001b[0;34m\u001b[0m\u001b[0;34m\u001b[0m\u001b[0m\n\u001b[0m\u001b[1;32m      6\u001b[0m \u001b[0mprint\u001b[0m\u001b[0;34m(\u001b[0m\u001b[0mx\u001b[0m\u001b[0;34m)\u001b[0m           \u001b[0;31m# Print the updated value\u001b[0m\u001b[0;34m\u001b[0m\u001b[0;34m\u001b[0m\u001b[0m\n\u001b[1;32m      7\u001b[0m \u001b[0my\u001b[0m\u001b[0;34m=\u001b[0m\u001b[0mround\u001b[0m\u001b[0;34m(\u001b[0m\u001b[0m_\u001b[0m\u001b[0;34m,\u001b[0m\u001b[0;36m1\u001b[0m\u001b[0;34m)\u001b[0m\u001b[0;34m\u001b[0m\u001b[0;34m\u001b[0m\u001b[0m\n",
            "\u001b[0;31mTypeError\u001b[0m: unsupported operand type(s) for +: 'int' and 'str'"
          ]
        }
      ],
      "source": [
        "tax = 12.50 / 100  # Calculate the tax rate as 12.50%\n",
        "price = 100        # Set the price to 100\n",
        "m = price + tax    # Calculate the total price including tax\n",
        "print(m)           # Print the total price\n",
        "x = price + _      # WE use '_' to Add the last printed result to the price\n",
        "print(x)           # Print the updated value\n",
        "y=round(_,1)\n",
        "print(y)\n",
        "\n"
      ]
    },
    {
      "cell_type": "code",
      "source": [
        "x=9\n",
        "print(type(x))"
      ],
      "metadata": {
        "colab": {
          "base_uri": "https://localhost:8080/"
        },
        "id": "gd_UOCwH29gS",
        "outputId": "12351547-88a1-4084-aaa9-99a68828615f"
      },
      "execution_count": 8,
      "outputs": [
        {
          "output_type": "stream",
          "name": "stdout",
          "text": [
            "<class 'int'>\n"
          ]
        }
      ]
    },
    {
      "cell_type": "code",
      "source": [
        "#learning about strings\n",
        "print(\"HEllo\\10' boy\") #\\(backward slash use here as escape character the interpreter escape the character next to backslash)\n",
        "print(\"\\\"yes they\\\" they said\") #as you can see here as well.\n",
        "print('\"Isn\\'t,\" they said.')\n",
        "#raw string in python\n",
        "print(r'c:\\nemo\\semo') #it's is raw string literal when you use this then \"\\\" is not treated as escape character.\n"
      ],
      "metadata": {
        "colab": {
          "base_uri": "https://localhost:8080/"
        },
        "id": "5PaS-bJ63Q8Z",
        "outputId": "3958e57a-81ee-486e-fdf3-af245009737a"
      },
      "execution_count": 17,
      "outputs": [
        {
          "output_type": "stream",
          "name": "stdout",
          "text": [
            "HEllo\b' boy\n",
            "\"yes they\" they said\n",
            "\"Isn't,\" they said.\n",
            "c:\\nemo\\semo\n"
          ]
        }
      ]
    },
    {
      "cell_type": "code",
      "source": [
        "#this is (\"\"\" \"\"\") triple quoted string used to print multi line statement.\n",
        "print(\"\"\"\\\n",
        "Usage: thingy [OPTIONS]\n",
        "     -h                        Display this usage message\n",
        "     -H hostname               Hostname to connect to\n",
        "\"\"\")"
      ],
      "metadata": {
        "colab": {
          "base_uri": "https://localhost:8080/"
        },
        "id": "LYTcLLwn5F5q",
        "outputId": "bdd2fc34-b641-4c7c-c9ab-e7228dd1aed5"
      },
      "execution_count": 19,
      "outputs": [
        {
          "output_type": "stream",
          "name": "stdout",
          "text": [
            "\n",
            "Usage: thingy [OPTIONS]\n",
            "     -h                        Display this usage message\n",
            "     -H hostname               Hostname to connect to\n",
            "\n"
          ]
        }
      ]
    },
    {
      "cell_type": "code",
      "source": [
        "# 3 times 'un', followed by 'ium'\n",
        "#we can perform string concatnation only with '+' and '*' operator.\n",
        "print(3 * 'un' + 'ium')\n"
      ],
      "metadata": {
        "colab": {
          "base_uri": "https://localhost:8080/"
        },
        "id": "cA69aNet5nQl",
        "outputId": "39f8cf90-9ace-4b17-e7d8-820af64cbb3c"
      },
      "execution_count": 20,
      "outputs": [
        {
          "output_type": "stream",
          "name": "stdout",
          "text": [
            "unununium\n"
          ]
        }
      ]
    },
    {
      "cell_type": "code",
      "source": [
        "text = ('Put several strings within parentheses '\n",
        "        'to have them joined together.')\n",
        "print(text)\n",
        "print('ak''hell') #they will be automatically concatneted\n"
      ],
      "metadata": {
        "colab": {
          "base_uri": "https://localhost:8080/"
        },
        "id": "FBR_iMLn9InX",
        "outputId": "bf0ef03a-209d-41e4-bb64-cebaf3ffd0d1"
      },
      "execution_count": 30,
      "outputs": [
        {
          "output_type": "stream",
          "name": "stdout",
          "text": [
            "Put several strings within parentheses to have them joined together.\n",
            "akhell\n"
          ]
        }
      ]
    },
    {
      "cell_type": "code",
      "source": [
        "word=\"automatic\"\n",
        "print(word[0:4:2])"
      ],
      "metadata": {
        "colab": {
          "base_uri": "https://localhost:8080/"
        },
        "id": "Xlst1Dge_EM8",
        "outputId": "4bd9e2f5-73d7-48f0-b851-f7968dfc8ac7"
      },
      "execution_count": 37,
      "outputs": [
        {
          "output_type": "stream",
          "name": "stdout",
          "text": [
            "at\n"
          ]
        }
      ]
    },
    {
      "cell_type": "code",
      "source": [
        "#len function\n",
        "#it's used to find the length of s variable\n",
        "s='dgsgwegwewhrhwhewh'\n",
        "#print(len(s))\n",
        "t=s.encode(encoding='utf-8', errors='strict')\n",
        "print(t)\n",
        "\n",
        "name=\"akash singh\"\n",
        "print(name.lower())\n",
        "print(name.upper())\n",
        "print(name.capitalize())\n",
        "print(name.casefold())"
      ],
      "metadata": {
        "colab": {
          "base_uri": "https://localhost:8080/"
        },
        "id": "srH3il2ZCtDq",
        "outputId": "e2d373a8-4a01-41ba-9c17-5e9dcbcd7206"
      },
      "execution_count": 43,
      "outputs": [
        {
          "output_type": "stream",
          "name": "stdout",
          "text": [
            "b'dgsgwegwewhrhwhewh'\n",
            "akash singh\n",
            "AKASH SINGH\n",
            "Akash singh\n",
            "akash singh\n"
          ]
        }
      ]
    },
    {
      "cell_type": "markdown",
      "source": [
        "**LIST**:"
      ],
      "metadata": {
        "id": "96Y1MDwdF3eR"
      }
    },
    {
      "cell_type": "code",
      "source": [
        "square=[1,2,3,4]\n",
        "print(square) #Normal list intialisation\n",
        "newl=square+[2,3,2,2,32,4] #you can add elements to the list as well..\n",
        "print(newl)\n",
        "lst=[1,2,3,42,4,2,33,31]\n",
        "#appending lst which always happend in the end\n",
        "lst.append(2)\n",
        "print(lst)\n",
        "lst[2:5]=[11,22,33] #adding element at specific postion in the lst\n",
        "print(lst)\n",
        "lst[2:5]=[] #ermoving element at specific postion\n",
        "print(lst)\n",
        "lst[:]\n",
        "print(lst)"
      ],
      "metadata": {
        "colab": {
          "base_uri": "https://localhost:8080/"
        },
        "id": "bXuYv-UeGB7x",
        "outputId": "54e99e8e-e9f8-4ba8-889c-eb58663f43fe"
      },
      "execution_count": 57,
      "outputs": [
        {
          "output_type": "stream",
          "name": "stdout",
          "text": [
            "[1, 2, 3, 4]\n",
            "[1, 2, 3, 4, 2, 3, 2, 2, 32, 4]\n",
            "[1, 2, 3, 42, 4, 2, 33, 31, 2]\n",
            "[1, 2, 11, 22, 33, 2, 33, 31, 2]\n",
            "[1, 2, 2, 33, 31, 2]\n",
            "[1, 2, 2, 33, 31, 2]\n"
          ]
        }
      ]
    },
    {
      "cell_type": "code",
      "source": [
        "#making array using list\n",
        "x=[2,3,4,5]\n",
        "y=[9,8,6,5]\n",
        "b=[x,y]\n",
        "print(b)\n",
        "met=b[0][3]\n",
        "print(met)"
      ],
      "metadata": {
        "colab": {
          "base_uri": "https://localhost:8080/"
        },
        "id": "-Q_fGrALKxrS",
        "outputId": "0f2747fc-e7c0-4247-f3db-ad264cd034a9"
      },
      "execution_count": 65,
      "outputs": [
        {
          "output_type": "stream",
          "name": "stdout",
          "text": [
            "[[2, 3, 4, 5], [9, 8, 6, 5]]\n",
            "5\n"
          ]
        }
      ]
    },
    {
      "cell_type": "code",
      "source": [
        "#fibbonaci series\n",
        "a=0\n",
        "b=1\n",
        "res=int(input(\"Upto what digit you want to find series ?\"))\n",
        "while(res !=0):\n",
        "  print(a)\n",
        "  a,b=b,a+b\n",
        "  res-=1"
      ],
      "metadata": {
        "colab": {
          "base_uri": "https://localhost:8080/"
        },
        "id": "0HulXEKOObE7",
        "outputId": "9898c61a-1fa0-46d2-cc40-b4c9fcc25e48"
      },
      "execution_count": 67,
      "outputs": [
        {
          "output_type": "stream",
          "name": "stdout",
          "text": [
            "Upto what digit you want to find series ?10\n",
            "0\n",
            "1\n",
            "1\n",
            "2\n",
            "3\n",
            "5\n",
            "8\n",
            "13\n",
            "21\n",
            "34\n"
          ]
        }
      ]
    }
  ]
}