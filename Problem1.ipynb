{
  "nbformat": 4,
  "nbformat_minor": 0,
  "metadata": {
    "colab": {
      "provenance": [],
      "authorship_tag": "ABX9TyNR6144ym+doa60bcxnMsj4",
      "include_colab_link": true
    },
    "kernelspec": {
      "name": "python3",
      "display_name": "Python 3"
    },
    "language_info": {
      "name": "python"
    }
  },
  "cells": [
    {
      "cell_type": "markdown",
      "metadata": {
        "id": "view-in-github",
        "colab_type": "text"
      },
      "source": [
        "<a href=\"https://colab.research.google.com/github/theakash07/python_codes/blob/google_collab/Problem1.ipynb\" target=\"_parent\"><img src=\"https://colab.research.google.com/assets/colab-badge.svg\" alt=\"Open In Colab\"/></a>"
      ]
    },
    {
      "cell_type": "markdown",
      "source": [
        "Problem set 1:"
      ],
      "metadata": {
        "id": "BWSbucB9CPBS"
      }
    },
    {
      "cell_type": "markdown",
      "source": [
        "Question 1:"
      ],
      "metadata": {
        "id": "eNrDd6YIEh4H"
      }
    },
    {
      "cell_type": "code",
      "source": [
        "data=input(\"What's is the answer to the Great question to the Life ?\")\n",
        "if data == \"42\":\n",
        "  print(\"yes\")\n",
        "elif data == \"forty two\":\n",
        "  print(\"Yes\")\n",
        "elif data ==\"forty-two\":\n",
        "  print(\"Yes\")\n",
        "else:\n",
        "  print(\"No\")"
      ],
      "metadata": {
        "colab": {
          "base_uri": "https://localhost:8080/"
        },
        "id": "aHhe8DA-EksU",
        "outputId": "c13a2459-403e-498f-9f3c-88852fa8b545"
      },
      "execution_count": 7,
      "outputs": [
        {
          "output_type": "stream",
          "name": "stdout",
          "text": [
            "What's is the answer to the Great question to the Life ?forty two\n",
            "Yes\n"
          ]
        }
      ]
    },
    {
      "cell_type": "code",
      "source": [
        "#doing same thin with the help of list:\n",
        "valid_data=[\"42\", \"forty two\", \"forty-two\"]\n",
        "dat=input(\"What's is the answer to the Great question to the Life ?\").lower()\n",
        "\n",
        "\n",
        "if dat in valid_data:\n",
        "  print(\"Yes\")\n",
        "else:\n",
        "  print(\"No\")\n"
      ],
      "metadata": {
        "colab": {
          "base_uri": "https://localhost:8080/"
        },
        "id": "MjoDyuOdGkiq",
        "outputId": "a251700c-8311-4d7a-c4c0-0c6073028e1b"
      },
      "execution_count": 18,
      "outputs": [
        {
          "output_type": "stream",
          "name": "stdout",
          "text": [
            "What's is the answer to the Great question to the Life ?Forty two\n",
            "Yes\n"
          ]
        }
      ]
    },
    {
      "cell_type": "code",
      "source": [
        "#can do this using dictionary also\n",
        "response_time={'42':\"yes\",'forty two':\"yes\",'forty-two':\"yes\"}\n",
        "data=input(\"What's is the answer to the Great question to the Life ?\")\n",
        "normalized_data = data.lower()\n",
        "\n",
        "if normalized_data in response_time:\n",
        "  print(response_time[normalized_data])\n",
        "else:\n",
        "  print(\"No\")\n"
      ],
      "metadata": {
        "colab": {
          "base_uri": "https://localhost:8080/"
        },
        "id": "1aY0LrkuHpiy",
        "outputId": "52a39420-b97a-4651-9e3a-18df5e33aa71"
      },
      "execution_count": 25,
      "outputs": [
        {
          "output_type": "stream",
          "name": "stdout",
          "text": [
            "What's is the answer to the Great question to the Life ?42\n",
            "yes\n"
          ]
        }
      ]
    },
    {
      "cell_type": "markdown",
      "source": [
        "problem set : 2"
      ],
      "metadata": {
        "id": "D59jwmlXOeqc"
      }
    },
    {
      "cell_type": "code",
      "source": [
        "#problem set 2 bank question\n",
        "response={'Hello':\"$0\",'Hello,akash':\"$0\",'Hey':\"$20\"}\n",
        "res=input(\"Greetings: \").capitalize().strip()\n",
        "\n",
        "\n",
        "if res in response:\n",
        "  print(response[res])\n",
        "else:\n",
        "  print(\"Enter valid :\")\n"
      ],
      "metadata": {
        "colab": {
          "base_uri": "https://localhost:8080/"
        },
        "id": "Lc6TYSfuOhG5",
        "outputId": "5d102811-ee9a-4c9a-d5ea-d389b3ae09db"
      },
      "execution_count": 29,
      "outputs": [
        {
          "output_type": "stream",
          "name": "stdout",
          "text": [
            "Greetings: Hey\n",
            "$20\n"
          ]
        }
      ]
    }
  ]
}