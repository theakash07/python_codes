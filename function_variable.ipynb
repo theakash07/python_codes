{
  "nbformat": 4,
  "nbformat_minor": 0,
  "metadata": {
    "colab": {
      "provenance": [],
      "authorship_tag": "ABX9TyMDwB34ij34oI5zvkaGJGdd",
      "include_colab_link": true
    },
    "kernelspec": {
      "name": "python3",
      "display_name": "Python 3"
    },
    "language_info": {
      "name": "python"
    }
  },
  "cells": [
    {
      "cell_type": "markdown",
      "metadata": {
        "id": "view-in-github",
        "colab_type": "text"
      },
      "source": [
        "<a href=\"https://colab.research.google.com/github/theakash07/python_codes/blob/google_collab/function_variable.ipynb\" target=\"_parent\"><img src=\"https://colab.research.google.com/assets/colab-badge.svg\" alt=\"Open In Colab\"/></a>"
      ]
    },
    {
      "cell_type": "code",
      "execution_count": null,
      "metadata": {
        "colab": {
          "base_uri": "https://localhost:8080/"
        },
        "id": "hpI4_bi2MT7K",
        "outputId": "23e3a9ea-0974-48a7-c5a2-9c8e70f26278"
      },
      "outputs": [
        {
          "output_type": "stream",
          "name": "stdout",
          "text": [
            "hello world\n"
          ]
        }
      ],
      "source": [
        "\n",
        "print(\"hello world\")"
      ]
    },
    {
      "cell_type": "markdown",
      "source": [
        "**Lecture : 1 function and Variables:**"
      ],
      "metadata": {
        "id": "k_P9e9ytXGFE"
      }
    },
    {
      "cell_type": "code",
      "source": [
        "a=10\n",
        "b=9\n",
        "print(a+b)"
      ],
      "metadata": {
        "colab": {
          "base_uri": "https://localhost:8080/"
        },
        "id": "x7ksr_0eIsv_",
        "outputId": "5adae346-8a5d-4784-d67f-a7d4aa502b19"
      },
      "execution_count": null,
      "outputs": [
        {
          "output_type": "stream",
          "name": "stdout",
          "text": [
            "19\n"
          ]
        }
      ]
    },
    {
      "cell_type": "code",
      "source": [
        "#for comments use this \"#\"\n",
        "name= input(\"Enter you name \")\n",
        "#say hello to user\n",
        "print(\"Hello\") #it automatically moving the cursor to the next line\n",
        "print(name)"
      ],
      "metadata": {
        "colab": {
          "base_uri": "https://localhost:8080/"
        },
        "id": "AKqNF66tJ_cs",
        "outputId": "44638b6a-3731-42f6-96d4-22bc03329f18"
      },
      "execution_count": null,
      "outputs": [
        {
          "output_type": "stream",
          "name": "stdout",
          "text": [
            "Enter you name akash\n",
            "Hello\n",
            "akash\n"
          ]
        }
      ]
    },
    {
      "cell_type": "code",
      "source": [
        "#for comments use this \"#\"\n",
        "name= input(\"Enter you name? \")\n",
        "#say hello to user\n",
        "print(\"Hello,\"+ name) #here concatning the strings to the right and the left"
      ],
      "metadata": {
        "colab": {
          "base_uri": "https://localhost:8080/"
        },
        "id": "yl4VWlq2K4w5",
        "outputId": "cf5f882c-727f-47e0-ad19-ffe313f8adf2"
      },
      "execution_count": null,
      "outputs": [
        {
          "output_type": "stream",
          "name": "stdout",
          "text": [
            "Enter you name? akash\n",
            "Hello,akash\n"
          ]
        }
      ]
    },
    {
      "cell_type": "code",
      "source": [
        "#for comments use this \"#\"\n",
        "name= input(\"Enter you name? \")\n",
        "#say hello to user\n",
        "print(\"Hello,\", name)"
      ],
      "metadata": {
        "colab": {
          "base_uri": "https://localhost:8080/"
        },
        "id": "Y2oqg010LXsZ",
        "outputId": "ba1703ac-088f-4c1f-ff7f-cb11b4979c16"
      },
      "execution_count": null,
      "outputs": [
        {
          "output_type": "stream",
          "name": "stdout",
          "text": [
            "Enter you name? akash\n",
            "Hello, akash\n"
          ]
        }
      ]
    },
    {
      "cell_type": "code",
      "source": [
        "name= input(\"Enter you name \")\n",
        "#say hello to user\n",
        "print(\"Hello,\",end=\" \")\n",
        "'''[end= \"  '] print function automatically moving the cursor to the next line but we can\n",
        "skip it moving to next line using the'''\n",
        "print(name)"
      ],
      "metadata": {
        "colab": {
          "base_uri": "https://localhost:8080/"
        },
        "id": "EGoNQX_kMiO9",
        "outputId": "a128e339-02f7-403d-f3c7-262063db2719"
      },
      "execution_count": null,
      "outputs": [
        {
          "output_type": "stream",
          "name": "stdout",
          "text": [
            "Enter you name akash\n",
            "Hello, akash\n"
          ]
        }
      ]
    },
    {
      "cell_type": "code",
      "source": [
        "name= input(\"Enter you name \")\n",
        "#say hello to user\n",
        "print(\"Hello\",name,sep=\" \")\n",
        "#using this [sep=\" \"] sep we can seprate the strings"
      ],
      "metadata": {
        "colab": {
          "base_uri": "https://localhost:8080/"
        },
        "id": "bB3ykum8P1DV",
        "outputId": "0f690a41-b922-422d-8380-989273187053"
      },
      "execution_count": null,
      "outputs": [
        {
          "output_type": "stream",
          "name": "stdout",
          "text": [
            "Enter you name akash\n",
            "Hello akash\n"
          ]
        }
      ]
    },
    {
      "cell_type": "code",
      "source": [
        "#say hello to user\n",
        "#use quotation marks within the quotation\n",
        "print('Hello \\\"frineds\\\"') #can use backspace cause interpreter thinks it as a escape character but it's not.\n",
        "print(' hello \"akash \"')#Can perform this way either...\n"
      ],
      "metadata": {
        "colab": {
          "base_uri": "https://localhost:8080/"
        },
        "id": "MltV0eFQR6wq",
        "outputId": "91bc7514-9651-4c00-8fb0-c342f953e8c1"
      },
      "execution_count": null,
      "outputs": [
        {
          "output_type": "stream",
          "name": "stdout",
          "text": [
            "Hello \"frineds\"\n",
            " hello \"akash \"\n"
          ]
        }
      ]
    },
    {
      "cell_type": "code",
      "source": [
        "name= input(\"Enter you name \")\n",
        "#say hello to user\n",
        "print(f\"Hello, {name}\") #format string using f it tells the interpreter that it's a special format\n"
      ],
      "metadata": {
        "colab": {
          "base_uri": "https://localhost:8080/"
        },
        "id": "fPfc8uVdTG8C",
        "outputId": "c8765fea-2b93-4222-caa4-5af57f8782e6"
      },
      "execution_count": null,
      "outputs": [
        {
          "output_type": "stream",
          "name": "stdout",
          "text": [
            "Enter you name akash\n",
            "Hello, akash\n"
          ]
        }
      ]
    },
    {
      "cell_type": "code",
      "source": [
        "identity=input(\"Enter you name \")\n",
        "#say hello to user\n",
        "#function to remove unusual spaces in the input\n",
        "identity=identity.strip() #using this function we can remove the unusual spaces which is in the left or in the right\n",
        "print(f\"Hello, {identity}\") #format string using f it tells the interpreter that it's a special format\n"
      ],
      "metadata": {
        "colab": {
          "base_uri": "https://localhost:8080/"
        },
        "id": "P_idxPpXTqln",
        "outputId": "cc7481b5-641f-4a0f-c1fa-2091c4d03a57"
      },
      "execution_count": null,
      "outputs": [
        {
          "output_type": "stream",
          "name": "stdout",
          "text": [
            "Enter you name           akash\n",
            "Hello, akash\n"
          ]
        }
      ]
    },
    {
      "cell_type": "code",
      "source": [
        "identity=input(\"Enter you name \")\n",
        "#say hello to user\n",
        "#function to remove unusual spaces in the input\n",
        "identity=identity.strip() #using this function we can remove the unusual spaces which is in the left or in the right\n",
        "#we can capitalze the identity\n",
        "identity=identity.capitalize() #it will the capitalze the first letter of the word....\n",
        "#can use title function which capitalize the all the first letter of the str...\n",
        "identity=identity.title()\n",
        "\n",
        "print(f\"Hello, {identity}\") #format string using f it tells the interpreter that it's a special format\n"
      ],
      "metadata": {
        "colab": {
          "base_uri": "https://localhost:8080/"
        },
        "id": "Uz2Q7QPbUyzg",
        "outputId": "7f4c82df-dc11-4d93-c00f-a61174586a9c"
      },
      "execution_count": null,
      "outputs": [
        {
          "output_type": "stream",
          "name": "stdout",
          "text": [
            "Enter you name          akash singh\n",
            "Hello, Akash Singh\n"
          ]
        }
      ]
    },
    {
      "cell_type": "code",
      "source": [
        "#chaining all the function together\n",
        "name=input(\"Enter name: ?\")\n",
        "name=name.strip().title()\n",
        "print(f\"Hello, {name}\")"
      ],
      "metadata": {
        "colab": {
          "base_uri": "https://localhost:8080/"
        },
        "id": "ml5iINDcWNG_",
        "outputId": "003c46b0-c8b0-4bb1-ac22-2aeaffc87f9a"
      },
      "execution_count": null,
      "outputs": [
        {
          "output_type": "stream",
          "name": "stdout",
          "text": [
            "Enter name: ?     akash singh\n",
            "Hello, Akash Singh\n"
          ]
        }
      ]
    },
    {
      "cell_type": "code",
      "source": [
        "#chaining all the function together\n",
        "name=input(\"Enter name: ?\").strip().title()\n",
        "print(f\"Hello, {name}\")"
      ],
      "metadata": {
        "colab": {
          "base_uri": "https://localhost:8080/"
        },
        "id": "OQANCW0xWrKM",
        "outputId": "17196e5d-1b82-4a17-ee0d-b565ef62a225"
      },
      "execution_count": null,
      "outputs": [
        {
          "output_type": "stream",
          "name": "stdout",
          "text": [
            "Enter name: ?           akash singh\n",
            "Hello, Akash Singh\n"
          ]
        }
      ]
    },
    {
      "cell_type": "code",
      "source": [
        "#chaining all the function together\n",
        "#using split() function\n",
        "name=input(\"Enter name: ?\").strip().title()\n",
        "first, last=name.split(\" \")\n",
        "print(f\"Hello, {first}\")"
      ],
      "metadata": {
        "colab": {
          "base_uri": "https://localhost:8080/"
        },
        "id": "CqAiDwFSXYXH",
        "outputId": "11e2677e-3c62-4828-de51-924573809130"
      },
      "execution_count": null,
      "outputs": [
        {
          "output_type": "stream",
          "name": "stdout",
          "text": [
            "Enter name: ?         akash singh\n",
            "Hello, Akash\n"
          ]
        }
      ]
    },
    {
      "cell_type": "code",
      "source": [
        "filename=input(\"Enter file type :\")\n",
        "first, last =filename.split(\".\")\n",
        "print(f'The file type is : {last}')\n"
      ],
      "metadata": {
        "colab": {
          "base_uri": "https://localhost:8080/"
        },
        "id": "OTycpNrSjBRm",
        "outputId": "e746863f-fd86-4319-ffcf-6726a9b1e981"
      },
      "execution_count": 4,
      "outputs": [
        {
          "output_type": "stream",
          "name": "stdout",
          "text": [
            "Enter file type :main.java\n",
            "The file type is : java\n"
          ]
        }
      ]
    },
    {
      "cell_type": "markdown",
      "source": [
        "addition"
      ],
      "metadata": {
        "id": "FsCHvqFKmnzH"
      }
    },
    {
      "cell_type": "code",
      "source": [
        "x=int(input(\"Enter x: \")) #here nesting two function first input function and later it will typecast into int..\n",
        "y=int(input('Enter y :'))\n",
        "z=x+y # can typecast this way too z=int(x) + int(y)\n",
        "print(x+y)\n",
        "print(z)\n",
        "\n",
        "#print(int(input(\"Enter x :\"))+ int(input(\"enter y :\"))) can perform this way also which has so much clutter\n"
      ],
      "metadata": {
        "colab": {
          "base_uri": "https://localhost:8080/"
        },
        "id": "kY5JP8mhmptv",
        "outputId": "666334c4-3566-4e36-9eb0-41dd350a89aa"
      },
      "execution_count": 12,
      "outputs": [
        {
          "output_type": "stream",
          "name": "stdout",
          "text": [
            "Enter x: 12\n",
            "Enter y :23\n",
            "35\n",
            "35\n"
          ]
        }
      ]
    },
    {
      "cell_type": "markdown",
      "source": [
        "FLoat\n",
        "Round function which round off the floating values to the ceiling values"
      ],
      "metadata": {
        "id": "2a7PQ58vo1zC"
      }
    },
    {
      "cell_type": "code",
      "source": [
        "x=float(input(\"Etner x: \"))\n",
        "y=float(input(\"Enter y: \"))\n",
        "t=x/y\n",
        "print(f\"{t:2f}\"); #using format string using , for thousand seprator."
      ],
      "metadata": {
        "colab": {
          "base_uri": "https://localhost:8080/"
        },
        "id": "GqFUP3Y7o3k1",
        "outputId": "7c363b65-798b-4dac-82c5-d91b21764034"
      },
      "execution_count": 35,
      "outputs": [
        {
          "output_type": "stream",
          "name": "stdout",
          "text": [
            "Etner x: 2\n",
            "Enter y: 3\n",
            "0.666667\n"
          ]
        }
      ]
    },
    {
      "cell_type": "markdown",
      "source": [
        "Functions : #user defined data types"
      ],
      "metadata": {
        "id": "uP-bfcKptSI4"
      }
    },
    {
      "cell_type": "code",
      "source": [
        "def hello(to): #using parameter passing into this function\n",
        "  print(\"Hello\",to)\n",
        "\n",
        "nam=input(\"Enter your name: \").title().strip()\n",
        "hello(nam)\n"
      ],
      "metadata": {
        "colab": {
          "base_uri": "https://localhost:8080/"
        },
        "id": "kfv7Xx3QtXLc",
        "outputId": "fad4aa0f-1a5b-407d-a34a-6fa030ed8aed"
      },
      "execution_count": 41,
      "outputs": [
        {
          "output_type": "stream",
          "name": "stdout",
          "text": [
            "Enter your name:       akash singh\n",
            "Hello Akash Singh\n"
          ]
        }
      ]
    },
    {
      "cell_type": "code",
      "source": [
        "#same function response with parameters and without parameters\n",
        "def hello(to=\"world\"):\n",
        "  print(\"Hello\",to)\n",
        "hello()\n",
        "nn=input(\"Enter your name: \").title().strip()\n",
        "hello(nn)"
      ],
      "metadata": {
        "colab": {
          "base_uri": "https://localhost:8080/"
        },
        "id": "cQOlViwAvK1V",
        "outputId": "beec1796-27b9-466b-f0c9-68d479ea51cf"
      },
      "execution_count": 43,
      "outputs": [
        {
          "output_type": "stream",
          "name": "stdout",
          "text": [
            "Hello world\n",
            "Enter your name:          akash singh\n",
            "Hello Akash Singh\n"
          ]
        }
      ]
    },
    {
      "cell_type": "code",
      "source": [
        "def main():\n",
        "  hello()\n",
        "  tt=input(\"Enter your name: \")\n",
        "  hello(tt)\n",
        "\n",
        "def hello(to=\"world\"):\n",
        "  print(\"Hello\",to)\n",
        "\n",
        "main()"
      ],
      "metadata": {
        "id": "SmCpU589wBCZ"
      },
      "execution_count": null,
      "outputs": []
    },
    {
      "cell_type": "markdown",
      "source": [
        "Return values"
      ],
      "metadata": {
        "id": "tn1oKs9VwxCV"
      }
    },
    {
      "cell_type": "code",
      "source": [
        "#calculator | return values  |\n",
        "def main():\n",
        "  x=int(input(\"Enter x: \"))\n",
        "  print(\"x squaure is \",square(x))\n",
        "\n",
        "def square(n):\n",
        "  return pow(n,2); # return pow(n,2) can do this way also\n",
        "\n",
        "main()"
      ],
      "metadata": {
        "colab": {
          "base_uri": "https://localhost:8080/"
        },
        "id": "Mx52xp1Owy9f",
        "outputId": "7fe7be3f-677f-4636-82fc-c324d10eea58"
      },
      "execution_count": 46,
      "outputs": [
        {
          "output_type": "stream",
          "name": "stdout",
          "text": [
            "Enter x: 4\n",
            "x squaure is  16\n"
          ]
        }
      ]
    }
  ]
}