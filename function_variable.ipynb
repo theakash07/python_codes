{
  "nbformat": 4,
  "nbformat_minor": 0,
  "metadata": {
    "colab": {
      "provenance": [],
      "authorship_tag": "ABX9TyMcyy03OZVwU6uJ3VE67YaR",
      "include_colab_link": true
    },
    "kernelspec": {
      "name": "python3",
      "display_name": "Python 3"
    },
    "language_info": {
      "name": "python"
    }
  },
  "cells": [
    {
      "cell_type": "markdown",
      "metadata": {
        "id": "view-in-github",
        "colab_type": "text"
      },
      "source": [
        "<a href=\"https://colab.research.google.com/github/theakash07/python_codes/blob/google_collab/function_variable.ipynb\" target=\"_parent\"><img src=\"https://colab.research.google.com/assets/colab-badge.svg\" alt=\"Open In Colab\"/></a>"
      ]
    },
    {
      "cell_type": "code",
      "execution_count": 1,
      "metadata": {
        "colab": {
          "base_uri": "https://localhost:8080/"
        },
        "id": "hpI4_bi2MT7K",
        "outputId": "23e3a9ea-0974-48a7-c5a2-9c8e70f26278"
      },
      "outputs": [
        {
          "output_type": "stream",
          "name": "stdout",
          "text": [
            "hello world\n"
          ]
        }
      ],
      "source": [
        "print(\"hello world\")"
      ]
    },
    {
      "cell_type": "code",
      "source": [
        "a=10\n",
        "b=9\n",
        "print(a+b)"
      ],
      "metadata": {
        "colab": {
          "base_uri": "https://localhost:8080/"
        },
        "id": "x7ksr_0eIsv_",
        "outputId": "5adae346-8a5d-4784-d67f-a7d4aa502b19"
      },
      "execution_count": 3,
      "outputs": [
        {
          "output_type": "stream",
          "name": "stdout",
          "text": [
            "19\n"
          ]
        }
      ]
    },
    {
      "cell_type": "code",
      "source": [
        "#for comments use this \"#\"\n",
        "name= input(\"Enter you name \")\n",
        "#say hello to user\n",
        "print(\"Hello\") #it automatically moving the cursor to the next line\n",
        "print(name)"
      ],
      "metadata": {
        "colab": {
          "base_uri": "https://localhost:8080/"
        },
        "id": "AKqNF66tJ_cs",
        "outputId": "44638b6a-3731-42f6-96d4-22bc03329f18"
      },
      "execution_count": 10,
      "outputs": [
        {
          "output_type": "stream",
          "name": "stdout",
          "text": [
            "Enter you name akash\n",
            "Hello\n",
            "akash\n"
          ]
        }
      ]
    },
    {
      "cell_type": "code",
      "source": [
        "#for comments use this \"#\"\n",
        "name= input(\"Enter you name? \")\n",
        "#say hello to user\n",
        "print(\"Hello,\"+ name) #here concatning the strings to the right and the left"
      ],
      "metadata": {
        "colab": {
          "base_uri": "https://localhost:8080/"
        },
        "id": "yl4VWlq2K4w5",
        "outputId": "cf5f882c-727f-47e0-ad19-ffe313f8adf2"
      },
      "execution_count": 7,
      "outputs": [
        {
          "output_type": "stream",
          "name": "stdout",
          "text": [
            "Enter you name? akash\n",
            "Hello,akash\n"
          ]
        }
      ]
    },
    {
      "cell_type": "code",
      "source": [
        "#for comments use this \"#\"\n",
        "name= input(\"Enter you name? \")\n",
        "#say hello to user\n",
        "print(\"Hello,\", name)"
      ],
      "metadata": {
        "colab": {
          "base_uri": "https://localhost:8080/"
        },
        "id": "Y2oqg010LXsZ",
        "outputId": "ba1703ac-088f-4c1f-ff7f-cb11b4979c16"
      },
      "execution_count": 13,
      "outputs": [
        {
          "output_type": "stream",
          "name": "stdout",
          "text": [
            "Enter you name? akash\n",
            "Hello, akash\n"
          ]
        }
      ]
    },
    {
      "cell_type": "code",
      "source": [
        "name= input(\"Enter you name \")\n",
        "#say hello to user\n",
        "print(\"Hello,\",end=\" \")\n",
        "'''[end= \"  '] print function automatically moving the cursor to the next line but we can\n",
        "skip it moving to next line using the'''\n",
        "print(name)"
      ],
      "metadata": {
        "colab": {
          "base_uri": "https://localhost:8080/"
        },
        "id": "EGoNQX_kMiO9",
        "outputId": "a128e339-02f7-403d-f3c7-262063db2719"
      },
      "execution_count": 29,
      "outputs": [
        {
          "output_type": "stream",
          "name": "stdout",
          "text": [
            "Enter you name akash\n",
            "Hello, akash\n"
          ]
        }
      ]
    },
    {
      "cell_type": "code",
      "source": [
        "name= input(\"Enter you name \")\n",
        "#say hello to user\n",
        "print(\"Hello\",name,sep=\" \")\n",
        "#using this [sep=\" \"] sep we can seprate the strings"
      ],
      "metadata": {
        "colab": {
          "base_uri": "https://localhost:8080/"
        },
        "id": "bB3ykum8P1DV",
        "outputId": "0f690a41-b922-422d-8380-989273187053"
      },
      "execution_count": 32,
      "outputs": [
        {
          "output_type": "stream",
          "name": "stdout",
          "text": [
            "Enter you name akash\n",
            "Hello akash\n"
          ]
        }
      ]
    },
    {
      "cell_type": "code",
      "source": [
        "#say hello to user\n",
        "#use quotation marks within the quotation\n",
        "print('Hello \\\"frineds\\\"') #can use backspace cause interpreter thinks it as a escape character but it's not.\n",
        "print(' hello \"akash \"')#Can perform this way either...\n"
      ],
      "metadata": {
        "colab": {
          "base_uri": "https://localhost:8080/"
        },
        "id": "MltV0eFQR6wq",
        "outputId": "91bc7514-9651-4c00-8fb0-c342f953e8c1"
      },
      "execution_count": 38,
      "outputs": [
        {
          "output_type": "stream",
          "name": "stdout",
          "text": [
            "Hello \"frineds\"\n",
            " hello \"akash \"\n"
          ]
        }
      ]
    },
    {
      "cell_type": "code",
      "source": [
        "name= input(\"Enter you name \")\n",
        "#say hello to user\n",
        "print(f\"Hello, {name}\") #format string using f it tells the interpreter that it's a special format\n"
      ],
      "metadata": {
        "colab": {
          "base_uri": "https://localhost:8080/"
        },
        "id": "fPfc8uVdTG8C",
        "outputId": "c8765fea-2b93-4222-caa4-5af57f8782e6"
      },
      "execution_count": 41,
      "outputs": [
        {
          "output_type": "stream",
          "name": "stdout",
          "text": [
            "Enter you name akash\n",
            "Hello, akash\n"
          ]
        }
      ]
    },
    {
      "cell_type": "code",
      "source": [
        "identity=input(\"Enter you name \")\n",
        "#say hello to user\n",
        "#function to remove unusual spaces in the input\n",
        "identity=identity.strip() #using this function we can remove the unusual spaces which is in the left or in the right\n",
        "print(f\"Hello, {identity}\") #format string using f it tells the interpreter that it's a special format\n"
      ],
      "metadata": {
        "colab": {
          "base_uri": "https://localhost:8080/"
        },
        "id": "P_idxPpXTqln",
        "outputId": "cc7481b5-641f-4a0f-c1fa-2091c4d03a57"
      },
      "execution_count": 48,
      "outputs": [
        {
          "output_type": "stream",
          "name": "stdout",
          "text": [
            "Enter you name           akash\n",
            "Hello, akash\n"
          ]
        }
      ]
    },
    {
      "cell_type": "code",
      "source": [
        "identity=input(\"Enter you name \")\n",
        "#say hello to user\n",
        "#function to remove unusual spaces in the input\n",
        "identity=identity.strip() #using this function we can remove the unusual spaces which is in the left or in the right\n",
        "#we can capitalze the identity\n",
        "identity=identity.capitalize() #it will the capitalze the first letter of the word....\n",
        "#can use title function which capitalize the all the first letter of the str...\n",
        "identity=identity.title()\n",
        "\n",
        "print(f\"Hello, {identity}\") #format string using f it tells the interpreter that it's a special format\n"
      ],
      "metadata": {
        "colab": {
          "base_uri": "https://localhost:8080/"
        },
        "id": "Uz2Q7QPbUyzg",
        "outputId": "7f4c82df-dc11-4d93-c00f-a61174586a9c"
      },
      "execution_count": 47,
      "outputs": [
        {
          "output_type": "stream",
          "name": "stdout",
          "text": [
            "Enter you name          akash singh\n",
            "Hello, Akash Singh\n"
          ]
        }
      ]
    }
  ]
}