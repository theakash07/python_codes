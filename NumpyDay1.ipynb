{
  "nbformat": 4,
  "nbformat_minor": 0,
  "metadata": {
    "colab": {
      "provenance": [],
      "authorship_tag": "ABX9TyMQJzHutCPCdr3VmeuUrY/W",
      "include_colab_link": true
    },
    "kernelspec": {
      "name": "python3",
      "display_name": "Python 3"
    },
    "language_info": {
      "name": "python"
    }
  },
  "cells": [
    {
      "cell_type": "markdown",
      "metadata": {
        "id": "view-in-github",
        "colab_type": "text"
      },
      "source": [
        "<a href=\"https://colab.research.google.com/github/theakash07/python_codes/blob/google_collab/NumpyDay1.ipynb\" target=\"_parent\"><img src=\"https://colab.research.google.com/assets/colab-badge.svg\" alt=\"Open In Colab\"/></a>"
      ]
    },
    {
      "cell_type": "code",
      "execution_count": 7,
      "metadata": {
        "colab": {
          "base_uri": "https://localhost:8080/"
        },
        "id": "qic162c6PpIw",
        "outputId": "80043bc4-5688-4131-9ca3-77dcfdf3a8fa"
      },
      "outputs": [
        {
          "output_type": "stream",
          "name": "stdout",
          "text": [
            "[9, 2, 3]\n",
            "[0 2 3]\n",
            "[1, 2, 3]\n",
            "[0 2 3]\n",
            "[1, 2, 3]\n",
            "[0 2 3]\n"
          ]
        }
      ],
      "source": [
        "import numpy as np\n",
        "\n",
        "lst = [1, 2, 3]\n",
        "a = np.array(lst, copy=True) #if copy is true that means it is copying the original content of the lst so if we changing the original lst it doesn't affect the array or if we change the array it doesn't affect the original list.\n",
        "a[0] = 0  #both the array and list is independent so changing in any one doesn't affect the array or lst..\n",
        "lst[0]=9\n",
        "print(lst)  # no change to array\n",
        "print(a)\n",
        "\n",
        "lst = [1, 2, 3]\n",
        "a = np.array(lst, copy=False)\n",
        "a[0] = 0\n",
        "print(lst) #no change to original\n",
        "print(a)\n",
        "\n",
        "lst = [1, 2, 3]\n",
        "a = np.array(lst)\n",
        "a[0] = 0\n",
        "print(lst) #no change to original\n",
        "print(a)"
      ]
    },
    {
      "cell_type": "markdown",
      "source": [
        "**Below using dtype object to convert the particular element into best precision\n",
        "like int the array there are only one elements and using dtype=np.float16 which is converting it to the half precision and using [0] to access the element which is at position 0.**"
      ],
      "metadata": {
        "id": "X3dvd0wqYE1p"
      }
    },
    {
      "cell_type": "code",
      "source": [
        "import numpy as np\n",
        "#here we are using the dtype 16 bits which is 2 bytes so the precision will be about 4 digits.\n",
        "a = np.array([1.3738729019013636723763, 1.23243328979877893], dtype=np.float16)[1]\n",
        "print(\"float16:\", a)\n",
        "#here we are using the dtype 32 bytes which is 4 bytes so the precision will be about 8 digits.\n",
        "a = np.array([1.3738729019013636723763], dtype=np.float32)[0]\n",
        "print(\"float32:\", a)\n",
        "#here we are using the dtype 64 bytes which is 8 bytes so the precision will be about 16 digits.\n",
        "a = np.array([1.3738729019013636723763], dtype=np.float64)[0]\n",
        "print(\"float64:\", a)\n",
        "#here we are using the dtype 128 bytes which is 16 bytes so the precision will be about  32 digits.\n",
        "# float128 is not available on all platforms\n",
        "a = np.array([1.3738729019013636723763], dtype=np.float128)[0]\n",
        "print(\"float128:\", a)"
      ],
      "metadata": {
        "id": "IzWXnb5qVOzf",
        "outputId": "fb52a396-a41a-46a8-9658-e2e1088471c2",
        "colab": {
          "base_uri": "https://localhost:8080/"
        }
      },
      "execution_count": 14,
      "outputs": [
        {
          "output_type": "stream",
          "name": "stdout",
          "text": [
            "float16: 1.232\n",
            "float32: 1.3738729\n",
            "float64: 1.3738729019013636\n",
            "float128: 1.3738729019013635746\n"
          ]
        }
      ]
    }
  ]
}