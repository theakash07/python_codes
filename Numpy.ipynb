{
  "nbformat": 4,
  "nbformat_minor": 0,
  "metadata": {
    "colab": {
      "provenance": [],
      "authorship_tag": "ABX9TyOJm72j0/J3CDY7B/WSHJan",
      "include_colab_link": true
    },
    "kernelspec": {
      "name": "python3",
      "display_name": "Python 3"
    },
    "language_info": {
      "name": "python"
    }
  },
  "cells": [
    {
      "cell_type": "markdown",
      "metadata": {
        "id": "view-in-github",
        "colab_type": "text"
      },
      "source": [
        "<a href=\"https://colab.research.google.com/github/theakash07/python_codes/blob/google_collab/Numpy.ipynb\" target=\"_parent\"><img src=\"https://colab.research.google.com/assets/colab-badge.svg\" alt=\"Open In Colab\"/></a>"
      ]
    },
    {
      "cell_type": "code",
      "execution_count": 1,
      "metadata": {
        "colab": {
          "base_uri": "https://localhost:8080/"
        },
        "id": "qic162c6PpIw",
        "outputId": "8242b5e4-e350-4115-e76c-05dc484da198"
      },
      "outputs": [
        {
          "output_type": "stream",
          "name": "stdout",
          "text": [
            "[9, 2, 3]\n",
            "[1 2 3]\n",
            "[1, 2, 3]\n",
            "[0 2 3]\n",
            "[1, 2, 3]\n",
            "[0 2 3]\n"
          ]
        }
      ],
      "source": [
        "import numpy as np\n",
        "\n",
        "lst = [1, 2, 3]\n",
        "a = np.array(lst, copy=True) #if copy is true that means it is copying the original content of the lst so if we changing the original lst it doesn't affect the array or if we change the array it doesn't affect the original list.\n",
        "  #both the array and list is independent so changing in any one doesn't affect the array or lst..\n",
        "lst[0]=9\n",
        "print(lst)  # no change to array\n",
        "print(a)\n",
        "\n",
        "lst = [1, 2, 3]\n",
        "a = np.array(lst, copy=False)\n",
        "a[0] = 0\n",
        "print(lst) #no change to original\n",
        "print(a)\n",
        "\n",
        "lst = [1, 2, 3]\n",
        "a = np.array(lst)\n",
        "a[0] = 0\n",
        "print(lst) #no change to original\n",
        "print(a)"
      ]
    },
    {
      "cell_type": "markdown",
      "source": [
        "**Below using dtype object to convert the particular element into best precision\n",
        "like int the array there are only one elements and using dtype=np.float16 which is converting it to the half precision and using [0] to access the element which is at position 0.**"
      ],
      "metadata": {
        "id": "X3dvd0wqYE1p"
      }
    },
    {
      "cell_type": "code",
      "source": [
        "import numpy as np\n",
        "#here we are using the dtype 16 bits which is 2 bytes so the precision will be about 4 digits.\n",
        "a = np.array([1.3738729019013636723763, 1.23243328979877893], dtype=np.float16)[1]\n",
        "print(\"float16:\", a)\n",
        "#here we are using the dtype 32 bytes which is 4 bytes so the precision will be about 8 digits.\n",
        "a = np.array([1.3738729019013636723763], dtype=np.float32)[0]\n",
        "print(\"float32:\", a)\n",
        "#here we are using the dtype 64 bytes which is 8 bytes so the precision will be about 16 digits.\n",
        "a = np.array([1.3738729019013636723763], dtype=np.float64)[0]\n",
        "print(\"float64:\", a)\n",
        "#here we are using the dtype 128 bytes which is 16 bytes so the precision will be about  32 digits.\n",
        "# float128 is not available on all platforms\n",
        "a = np.array([1.3738729019013636723763], dtype=np.float128)[0]\n",
        "print(\"float128:\", a)"
      ],
      "metadata": {
        "colab": {
          "base_uri": "https://localhost:8080/"
        },
        "id": "IzWXnb5qVOzf",
        "outputId": "fb52a396-a41a-46a8-9658-e2e1088471c2"
      },
      "execution_count": 14,
      "outputs": [
        {
          "output_type": "stream",
          "name": "stdout",
          "text": [
            "float16: 1.232\n",
            "float32: 1.3738729\n",
            "float64: 1.3738729019013636\n",
            "float128: 1.3738729019013635746\n"
          ]
        }
      ]
    },
    {
      "cell_type": "code",
      "source": [
        "#a = np.array([0.0, 2.0, 3.0, 4.0, 5.0])\n",
        "#print(a[0])\n",
        "# 0.0\n",
        "#a[0] = 1.0 #you can change single element in an array\n",
        "#print(a)\n",
        "# [1., 2., 3., 4., 5.]\n",
        "#print(a)"
      ],
      "metadata": {
        "id": "mg9FdNAE6A6Z",
        "outputId": "c957b12e-96ec-417d-f485-2f623362e99e",
        "colab": {
          "base_uri": "https://localhost:8080/"
        }
      },
      "execution_count": 3,
      "outputs": [
        {
          "output_type": "stream",
          "name": "stdout",
          "text": [
            "0.0\n",
            "[1. 2. 3. 4. 5.]\n",
            "[1. 2. 3. 4. 5.]\n"
          ]
        }
      ]
    },
    {
      "cell_type": "code",
      "source": [
        "#we can access multiple elements at a time\n",
        "x=np.array([2,3,4,5,6])\n",
        "print(x[[0,2,4]])\n",
        "x[[0,2,4]]=[4,6,10]\n",
        "print(x)"
      ],
      "metadata": {
        "id": "TKl9U8pj9SJ8",
        "outputId": "bfba775d-3d9e-4075-ac3b-a809aed4a377",
        "colab": {
          "base_uri": "https://localhost:8080/"
        }
      },
      "execution_count": 9,
      "outputs": [
        {
          "output_type": "stream",
          "name": "stdout",
          "text": [
            "[2 4 6]\n",
            "[ 4  3  6  5 10]\n"
          ]
        }
      ]
    },
    {
      "cell_type": "markdown",
      "source": [
        "NEGATIVE INDEXING"
      ],
      "metadata": {
        "id": "IMyorPiS-9Zn"
      }
    },
    {
      "cell_type": "code",
      "source": [
        "d=np.array([1,23,4,5,3])\n",
        "print(d[-1]) #in array we can do negative indexing as well"
      ],
      "metadata": {
        "id": "xqBiSkQn-_KC",
        "outputId": "e6b73d01-ac74-42be-9f29-ea959e58eece",
        "colab": {
          "base_uri": "https://localhost:8080/"
        }
      },
      "execution_count": 10,
      "outputs": [
        {
          "output_type": "stream",
          "name": "stdout",
          "text": [
            "3\n"
          ]
        }
      ]
    },
    {
      "cell_type": "markdown",
      "source": [
        "**Slicing of elements in array**\n",
        " the format is a[start: stop: step]. As an example, let’s get the first three elements of an array:"
      ],
      "metadata": {
        "id": "xA6EcgUx_Z5m"
      }
    },
    {
      "cell_type": "code",
      "source": [
        "a=np.array([3,4,5,6,7])\n",
        "print(a[0: 3])\n",
        "\n",
        "print(a[0: -1]) #this is negative indexing\n",
        "\n",
        "print(a[:: -1]) #we can reverse the elements of array using negative indexing elements.\n",
        "\n"
      ],
      "metadata": {
        "id": "OXHAaGEx_fJ-",
        "outputId": "ff50d276-3518-42ae-f8d7-6a5a55bc2a55",
        "colab": {
          "base_uri": "https://localhost:8080/"
        }
      },
      "execution_count": 13,
      "outputs": [
        {
          "output_type": "stream",
          "name": "stdout",
          "text": [
            "[3 4 5]\n",
            "[3 4 5 6]\n",
            "[7 6 5 4 3]\n"
          ]
        }
      ]
    },
    {
      "cell_type": "markdown",
      "source": [
        "**Append, insert, delete, and sort**"
      ],
      "metadata": {
        "id": "g8RTVLP2Ahs2"
      }
    },
    {
      "cell_type": "code",
      "source": [
        "#To append means to add elements to the end. We can append single elements to a NumPy array just like we do with lists:\n",
        "#append always happens at the End of the array\n",
        "n=np.array([3,4,5,6])\n",
        "n=np.append(n,8)\n",
        "print(n)\n",
        "#we can append multiple elements in the array as well\n",
        "a = np.array([1.0, 2.0])\n",
        "a = np.append(a, [4.0, 5.0])\n",
        "print(a)\n",
        "[1., 2., 4., 5.]"
      ],
      "metadata": {
        "id": "fnRNBx8xAmyx",
        "outputId": "48886a83-a9e4-4b2f-9e8e-7c5bc208020b",
        "colab": {
          "base_uri": "https://localhost:8080/"
        }
      },
      "execution_count": 18,
      "outputs": [
        {
          "output_type": "stream",
          "name": "stdout",
          "text": [
            "[3 4 5 6 8]\n",
            "[1. 2. 4. 5.]\n"
          ]
        },
        {
          "output_type": "execute_result",
          "data": {
            "text/plain": [
              "[1.0, 2.0, 4.0, 5.0]"
            ]
          },
          "metadata": {},
          "execution_count": 18
        }
      ]
    },
    {
      "cell_type": "code",
      "source": [
        "#inserting list of elements at positions\n",
        "\n",
        "a=np.array([3,4,5,6])\n",
        "a=np.insert(a, 3, values=88)\n",
        "print(a)\n",
        "\n"
      ],
      "metadata": {
        "id": "Fz8G1iC2Ce33",
        "outputId": "ef248070-1dae-4748-fd91-6a32af01def3",
        "colab": {
          "base_uri": "https://localhost:8080/"
        }
      },
      "execution_count": 23,
      "outputs": [
        {
          "output_type": "stream",
          "name": "stdout",
          "text": [
            "[ 3  4  5 88  6]\n"
          ]
        }
      ]
    },
    {
      "cell_type": "markdown",
      "source": [
        "**Insert into NumPy array**"
      ],
      "metadata": {
        "id": "E1jEN2ZOD9Aa"
      }
    },
    {
      "cell_type": "code",
      "source": [
        "a=np.array([3,5,6,7,8])\n",
        "a=np.insert(a,4, values=[53,45]) #here we are finding a postion and inserting multiple elements from there..\n",
        "print(a)\n",
        "\n",
        "# Insert multiple elements at multiple positions\n",
        "a = np.insert(a, [3, 5], values=[4.5, 5.5])  #here you can insert multiple elements at a time to multiple position.\n",
        "# a is nop [1. , 2. , 3. , 4.5, 4. , 5. , 5.5]\n"
      ],
      "metadata": {
        "id": "gf40p86pDZ27",
        "outputId": "522b35c6-d4e1-4198-db4d-46c0dae77443",
        "colab": {
          "base_uri": "https://localhost:8080/"
        }
      },
      "execution_count": 30,
      "outputs": [
        {
          "output_type": "stream",
          "name": "stdout",
          "text": [
            "[ 3  5  6  7 53 45  8]\n"
          ]
        }
      ]
    },
    {
      "cell_type": "markdown",
      "source": [
        "**Delete elements from NumPy array**"
      ],
      "metadata": {
        "id": "_9ha8q4WGqPa"
      }
    },
    {
      "cell_type": "code",
      "source": [
        "a=np.array([2,3,4,5,6])\n",
        "a=np.delete(a,-1) #deleting only one element using negative indexing\n",
        "print(a)\n",
        "\n",
        "b=np.array([9,8,7,6,5,4])\n",
        "b=np.delete(b,[2,3])\n",
        "print(b)"
      ],
      "metadata": {
        "id": "hC45sL33Guu4",
        "outputId": "861e76fe-7770-430c-b725-4ed6088602f3",
        "colab": {
          "base_uri": "https://localhost:8080/"
        }
      },
      "execution_count": 33,
      "outputs": [
        {
          "output_type": "stream",
          "name": "stdout",
          "text": [
            "[2 3 4 5]\n",
            "[9 8 5 4]\n"
          ]
        }
      ]
    },
    {
      "cell_type": "markdown",
      "source": [
        "Sorting NumPy array :\n",
        "There are two ways to sort a NumPy array: in-place sort and creating a new, sorted array. To start with that last one:"
      ],
      "metadata": {
        "id": "YIxTzhLfHkN6"
      }
    },
    {
      "cell_type": "code",
      "source": [
        "a=np.array([9,3,10,5,11])\n",
        "b=np.sort(a)\n",
        "print(b)"
      ],
      "metadata": {
        "id": "cpyRP18IHnfN",
        "outputId": "984a45fd-b8ff-419a-b9e3-3ab842dd8b95",
        "colab": {
          "base_uri": "https://localhost:8080/"
        }
      },
      "execution_count": 34,
      "outputs": [
        {
          "output_type": "stream",
          "name": "stdout",
          "text": [
            "[ 3  5  9 10 11]\n"
          ]
        }
      ]
    },
    {
      "cell_type": "code",
      "source": [
        "#in-place sort, do as follows:\n",
        "a = np.array([1.0, 3.0, 2.0, 4.0, 5.0])\n",
        "a.sort()\n",
        "# a is now [1., 2., 3., 4., 5.]\n",
        "print(a)\n"
      ],
      "metadata": {
        "id": "cPMzjNPVIDAz",
        "outputId": "3ffc5055-00e5-4b0f-e1dd-0bff7d9ded35",
        "colab": {
          "base_uri": "https://localhost:8080/"
        }
      },
      "execution_count": 35,
      "outputs": [
        {
          "output_type": "stream",
          "name": "stdout",
          "text": [
            "[1. 2. 3. 4. 5.]\n"
          ]
        }
      ]
    }
  ]
}